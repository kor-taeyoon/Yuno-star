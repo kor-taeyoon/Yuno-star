{
 "cells": [
  {
   "cell_type": "markdown",
   "metadata": {
    "colab_type": "text",
    "id": "cgvAjhV6-H1z"
   },
   "source": [
    "Rename your notebooks in this format: <b>StudentNumber_EDA</b>\n",
    "\n",
    "For example: <b>2018160307_EDA</b>\n",
    "\n",
    "Set your kernel to private prior to the deadline (to avoid other students copying).\n",
    "\n",
    "Set it to public after the deadline (to allow us to check your codes).\n",
    "\n",
    "This kernel is divided into tasks by headers. Each cell is commented with the specific required task.\n",
    "Copy and edit this kernel. Do not delete pre-writen comments. Just insert your code.\n",
    "As much as possible, write comments in your code."
   ]
  },
  {
   "cell_type": "code",
   "execution_count": 1,
   "metadata": {
    "_cell_guid": "b1076dfc-b9ad-4769-8c92-a6c4dae69d19",
    "_uuid": "8f2839f25d086af736a60e9eeb907d3b93b6e0e5",
    "colab": {},
    "colab_type": "code",
    "id": "hnyru2e4-H10"
   },
   "outputs": [],
   "source": [
    "# Import libraries and packages\n",
    "import numpy as np # for array manipulations\n",
    "import pandas as pd # for reading data/dataframes\n",
    "import os # for directory\n",
    "from matplotlib import pyplot as plt # for visualization\n",
    "from datetime import datetime, timedelta\n",
    "from matplotlib import dates as mpl_dates\n",
    "\n",
    "# Use seaborn style to make visualization prettier\n",
    "plt.style.use('seaborn')"
   ]
  },
  {
   "cell_type": "code",
   "execution_count": 2,
   "metadata": {
    "colab": {},
    "colab_type": "code",
    "id": "i4YZ-LHH-H12",
    "outputId": "4d419a46-68d5-462c-ac22-a7e28b1d3fbd"
   },
   "outputs": [
    {
     "name": "stdout",
     "output_type": "stream",
     "text": [
      "./corona_dataset\\Case.csv\n",
      "./corona_dataset\\PatientInfo.csv\n",
      "./corona_dataset\\Policy.csv\n",
      "./corona_dataset\\Region.csv\n",
      "./corona_dataset\\SearchTrend.csv\n",
      "./corona_dataset\\SeoulFloating.csv\n",
      "./corona_dataset\\Time.csv\n",
      "./corona_dataset\\TimeAge.csv\n",
      "./corona_dataset\\TimeGender.csv\n",
      "./corona_dataset\\TimeProvince.csv\n",
      "./corona_dataset\\Weather.csv\n"
     ]
    }
   ],
   "source": [
    "# Get paths of datasets to be used for EDA\n",
    "eda_root = './corona_dataset'\n",
    "eda_paths = sorted([os.path.join(eda_root, x) for x in os.listdir(eda_root)])\n",
    "for path in eda_paths:\n",
    "    print(path)"
   ]
  },
  {
   "cell_type": "markdown",
   "metadata": {
    "colab_type": "text",
    "id": "RPfLIzI4-H15"
   },
   "source": [
    "### Task 1: Age"
   ]
  },
  {
   "cell_type": "code",
   "execution_count": 3,
   "metadata": {
    "colab": {},
    "colab_type": "code",
    "id": "JgIRuozT-H15",
    "outputId": "07ecfc0a-4f33-44c0-bf11-2eca4e9a458c"
   },
   "outputs": [
    {
     "data": {
      "text/html": [
       "<div>\n",
       "<style scoped>\n",
       "    .dataframe tbody tr th:only-of-type {\n",
       "        vertical-align: middle;\n",
       "    }\n",
       "\n",
       "    .dataframe tbody tr th {\n",
       "        vertical-align: top;\n",
       "    }\n",
       "\n",
       "    .dataframe thead th {\n",
       "        text-align: right;\n",
       "    }\n",
       "</style>\n",
       "<table border=\"1\" class=\"dataframe\">\n",
       "  <thead>\n",
       "    <tr style=\"text-align: right;\">\n",
       "      <th></th>\n",
       "      <th>time</th>\n",
       "      <th>confirmed</th>\n",
       "      <th>deceased</th>\n",
       "    </tr>\n",
       "  </thead>\n",
       "  <tbody>\n",
       "    <tr>\n",
       "      <td>count</td>\n",
       "      <td>1089.0</td>\n",
       "      <td>1089.000000</td>\n",
       "      <td>1089.000000</td>\n",
       "    </tr>\n",
       "    <tr>\n",
       "      <td>mean</td>\n",
       "      <td>0.0</td>\n",
       "      <td>1158.129477</td>\n",
       "      <td>23.419651</td>\n",
       "    </tr>\n",
       "    <tr>\n",
       "      <td>std</td>\n",
       "      <td>0.0</td>\n",
       "      <td>822.619497</td>\n",
       "      <td>37.387911</td>\n",
       "    </tr>\n",
       "    <tr>\n",
       "      <td>min</td>\n",
       "      <td>0.0</td>\n",
       "      <td>32.000000</td>\n",
       "      <td>0.000000</td>\n",
       "    </tr>\n",
       "    <tr>\n",
       "      <td>25%</td>\n",
       "      <td>0.0</td>\n",
       "      <td>530.000000</td>\n",
       "      <td>0.000000</td>\n",
       "    </tr>\n",
       "    <tr>\n",
       "      <td>50%</td>\n",
       "      <td>0.0</td>\n",
       "      <td>1052.000000</td>\n",
       "      <td>3.000000</td>\n",
       "    </tr>\n",
       "    <tr>\n",
       "      <td>75%</td>\n",
       "      <td>0.0</td>\n",
       "      <td>1537.000000</td>\n",
       "      <td>35.000000</td>\n",
       "    </tr>\n",
       "    <tr>\n",
       "      <td>max</td>\n",
       "      <td>0.0</td>\n",
       "      <td>3362.000000</td>\n",
       "      <td>139.000000</td>\n",
       "    </tr>\n",
       "  </tbody>\n",
       "</table>\n",
       "</div>"
      ],
      "text/plain": [
       "         time    confirmed     deceased\n",
       "count  1089.0  1089.000000  1089.000000\n",
       "mean      0.0  1158.129477    23.419651\n",
       "std       0.0   822.619497    37.387911\n",
       "min       0.0    32.000000     0.000000\n",
       "25%       0.0   530.000000     0.000000\n",
       "50%       0.0  1052.000000     3.000000\n",
       "75%       0.0  1537.000000    35.000000\n",
       "max       0.0  3362.000000   139.000000"
      ]
     },
     "execution_count": 3,
     "metadata": {},
     "output_type": "execute_result"
    }
   ],
   "source": [
    "age_csv = pd.read_csv(eda_paths[7]) # read the data\n",
    "\n",
    "# show first few rows\n",
    "#age_csv.head()\n",
    "age_csv.describe()"
   ]
  },
  {
   "cell_type": "code",
   "execution_count": 4,
   "metadata": {
    "colab": {},
    "colab_type": "code",
    "id": "q-0Y7c03-H17",
    "outputId": "a910b509-3db9-4d3d-dad3-28a5f2283273",
    "scrolled": true
   },
   "outputs": [
    {
     "data": {
      "text/html": [
       "<div>\n",
       "<style scoped>\n",
       "    .dataframe tbody tr th:only-of-type {\n",
       "        vertical-align: middle;\n",
       "    }\n",
       "\n",
       "    .dataframe tbody tr th {\n",
       "        vertical-align: top;\n",
       "    }\n",
       "\n",
       "    .dataframe thead th {\n",
       "        text-align: right;\n",
       "    }\n",
       "</style>\n",
       "<table border=\"1\" class=\"dataframe\">\n",
       "  <thead>\n",
       "    <tr style=\"text-align: right;\">\n",
       "      <th></th>\n",
       "      <th>confirmed</th>\n",
       "      <th>deceased</th>\n",
       "    </tr>\n",
       "  </thead>\n",
       "  <tbody>\n",
       "    <tr>\n",
       "      <td>mean</td>\n",
       "      <td>1158.129477</td>\n",
       "      <td>23.419651</td>\n",
       "    </tr>\n",
       "    <tr>\n",
       "      <td>std</td>\n",
       "      <td>822.619497</td>\n",
       "      <td>37.387911</td>\n",
       "    </tr>\n",
       "    <tr>\n",
       "      <td>min</td>\n",
       "      <td>32.000000</td>\n",
       "      <td>0.000000</td>\n",
       "    </tr>\n",
       "    <tr>\n",
       "      <td>25%</td>\n",
       "      <td>530.000000</td>\n",
       "      <td>0.000000</td>\n",
       "    </tr>\n",
       "    <tr>\n",
       "      <td>50%</td>\n",
       "      <td>1052.000000</td>\n",
       "      <td>3.000000</td>\n",
       "    </tr>\n",
       "    <tr>\n",
       "      <td>75%</td>\n",
       "      <td>1537.000000</td>\n",
       "      <td>35.000000</td>\n",
       "    </tr>\n",
       "    <tr>\n",
       "      <td>max</td>\n",
       "      <td>3362.000000</td>\n",
       "      <td>139.000000</td>\n",
       "    </tr>\n",
       "  </tbody>\n",
       "</table>\n",
       "</div>"
      ],
      "text/plain": [
       "        confirmed    deceased\n",
       "mean  1158.129477   23.419651\n",
       "std    822.619497   37.387911\n",
       "min     32.000000    0.000000\n",
       "25%    530.000000    0.000000\n",
       "50%   1052.000000    3.000000\n",
       "75%   1537.000000   35.000000\n",
       "max   3362.000000  139.000000"
      ]
     },
     "execution_count": 4,
     "metadata": {},
     "output_type": "execute_result"
    }
   ],
   "source": [
    "# show the basic statistics for the confirmed and deceased cases\n",
    "age_csv.describe().drop(columns=['time'])[1:] # remove time and don't show count\n",
    "#age_csv.describe().drop(['time'], axis=1).iloc[1:]\n",
    "#age_csv.describe().drop(['time'], axis=1).iloc[1:]"
   ]
  },
  {
   "cell_type": "code",
   "execution_count": 5,
   "metadata": {
    "colab": {},
    "colab_type": "code",
    "id": "72-RZJBD-H19",
    "outputId": "4f9b1583-99fb-4d09-eb1e-13eec52cd453"
   },
   "outputs": [
    {
     "name": "stdout",
     "output_type": "stream",
     "text": [
      "Answer to Q1: 0\n",
      "Answer to Q2: 1089\n",
      "Answer to Q2: 1089\n",
      "Answer to Q3: 5\n",
      "Answer to Q3: 5\n",
      "Answer to Q4: 9\n",
      "Answer to Q5: 120 days 00:00:00\n"
     ]
    }
   ],
   "source": [
    "# It's optional to print the answers to the questions, but for the sake of demonstration:\n",
    "# Q1\n",
    "# check for missing values\n",
    "# isnull() returns a boolean value in each cell indicating whether there is a missing or NaN value\n",
    "# one way to check if the dataframe has any missing value at all, we can use numpy's unique function\n",
    "A1 = 0 if True not in np.unique(age_csv.isnull().values) else 1\n",
    "print('Answer to Q1:', A1)\n",
    "# the result means that there are no missing values since only False is the unique value in all cells\n",
    "\n",
    "#                 Q2\n",
    "# there can be many ways of arriving to the answer\n",
    "# just showing two\n",
    "print('Answer to Q2:', len(age_csv))\n",
    "print('Answer to Q2:', age_csv.shape[0])\n",
    "\n",
    "#                 Q3\n",
    "# again, there can be many ways of arriving to the answer\n",
    "# just showing two\n",
    "print('Answer to Q3:', len(age_csv.columns))\n",
    "print('Answer to Q3:', age_csv.shape[1])\n",
    "\n",
    "#                 Q4\n",
    "# checking for the number of unique values in a column\n",
    "print('Answer to Q4:', age_csv['age'].nunique())\n",
    "\n",
    "# convert date column from string to datetime\n",
    "age_csv['date'] = pd.to_datetime(age_csv['date']) # already in a good format\n",
    "\n",
    "# get the start date\n",
    "start_date = age_csv['date'].min()\n",
    "# get the end date\n",
    "end_date = age_csv['date'].max()\n",
    "# get the total number of days from start to end\n",
    "print('Answer to Q5:', end_date-start_date)"
   ]
  },
  {
   "cell_type": "code",
   "execution_count": 6,
   "metadata": {
    "colab": {},
    "colab_type": "code",
    "id": "HQTs864D-H1_",
    "outputId": "d1c68e4c-f330-4cce-96c2-ce0ae8ee18dc"
   },
   "outputs": [
    {
     "name": "stderr",
     "output_type": "stream",
     "text": [
      "C:\\Users\\Kimtaeyoon\\Anaconda3\\lib\\site-packages\\pandas\\plotting\\_matplotlib\\converter.py:103: FutureWarning: Using an implicitly registered datetime converter for a matplotlib plotting method. The converter was registered by pandas on import. Future versions of pandas will require you to explicitly register matplotlib converters.\n",
      "\n",
      "To register the converters:\n",
      "\t>>> from pandas.plotting import register_matplotlib_converters\n",
      "\t>>> register_matplotlib_converters()\n",
      "  warnings.warn(msg, FutureWarning)\n"
     ]
    },
    {
     "data": {
      "image/png": "[encoded data removed]",
      "text/plain": [
       "<Figure size 1080x720 with 1 Axes>"
      ]
     },
     "metadata": {
      "needs_background": "light"
     },
     "output_type": "display_data"
    }
   ],
   "source": [
    "fig = plt.figure(figsize=(15,10)) # set the image size\n",
    "# set the title\n",
    "plt.title('Cumulative confirmed cases by Age')\n",
    "# plot for each age group\n",
    "plt.plot('date', 'confirmed', data=age_csv[age_csv['age'] == '0s'], label='0s')\n",
    "plt.plot('date', 'confirmed', data=age_csv[age_csv['age'] == '10s'], label='10s', linestyle='--') # change line style\n",
    "plt.plot('date', 'confirmed', data=age_csv[age_csv['age'] == '20s'], label='20s', color='red') # change color\n",
    "plt.plot('date', 'confirmed', data=age_csv[age_csv['age'] == '30s'], label='30s')\n",
    "plt.plot('date', 'confirmed', data=age_csv[age_csv['age'] == '40s'], label='40s')\n",
    "plt.plot('date', 'confirmed', data=age_csv[age_csv['age'] == '50s'], label='50s')\n",
    "plt.plot('date', 'confirmed', data=age_csv[age_csv['age'] == '60s'], label='60s')\n",
    "plt.plot('date', 'confirmed', data=age_csv[age_csv['age'] == '70s'], label='70s')\n",
    "plt.plot('date', 'confirmed', data=age_csv[age_csv['age'] == '80s'], label='80s')\n",
    "# show the legend\n",
    "plt.legend()\n",
    "# add axis labels\n",
    "plt.xlabel('Date')\n",
    "plt.ylabel('Number of cases')\n",
    "# rotate the dates for better visibility\n",
    "plt.gcf().autofmt_xdate()\n",
    "# show the plot\n",
    "plt.show()"
   ]
  },
  {
   "cell_type": "code",
   "execution_count": 7,
   "metadata": {
    "colab": {},
    "colab_type": "code",
    "id": "hyaEafBv-H2B",
    "outputId": "54a73332-2b54-44aa-87c8-b4ef8ae58345",
    "scrolled": true
   },
   "outputs": [
    {
     "data": {
      "image/png": "[encoded data removed]",
      "text/plain": [
       "<Figure size 1080x720 with 1 Axes>"
      ]
     },
     "metadata": {
      "needs_background": "light"
     },
     "output_type": "display_data"
    }
   ],
   "source": [
    "# here is another way you can plot\n",
    "\n",
    "fig = plt.figure(figsize=(15,10)) # set the image size\n",
    "# set the title\n",
    "plt.title('Cumulative confirmed cases by Age')\n",
    "\n",
    "# loop over the age groups\n",
    "for x in age_csv.age.unique():\n",
    "    plt.plot('date', 'confirmed', data=age_csv[age_csv['age'] == x], label=x)\n",
    "\n",
    "# show the legend\n",
    "plt.legend()\n",
    "# add axis labels\n",
    "plt.xlabel('Date')\n",
    "plt.ylabel('Number of cases')\n",
    "# rotate the dates for better visibility\n",
    "plt.gcf().autofmt_xdate()\n",
    "# show the plot\n",
    "plt.show()\n",
    "\n",
    "# you can also make your own plotting funciton"
   ]
  },
  {
   "cell_type": "code",
   "execution_count": 10,
   "metadata": {
    "colab": {},
    "colab_type": "code",
    "id": "p3gufNzI-H2D",
    "outputId": "f910890f-15f0-4e39-9b02-88dc0967418d"
   },
   "outputs": [
    {
     "name": "stdout",
     "output_type": "stream",
     "text": [
      "Answer to Q6: 2\n",
      "Answer to Q7: 1500\n"
     ]
    }
   ],
   "source": [
    "# answers to Q6 and Q7 can be eye-balled from the plot\n",
    "print('Answer to Q6:', 2)\n",
    "print('Answer to Q7:', 1500)"
   ]
  },
  {
   "cell_type": "code",
   "execution_count": 11,
   "metadata": {
    "colab": {},
    "colab_type": "code",
    "id": "cOd7pXTL-H2F"
   },
   "outputs": [],
   "source": [
    "total_deceased = [] # get the total number of deceased\n",
    "age_groups = age_csv.age.unique() # get the unique values under the age column\n",
    "for x in age_groups:\n",
    "    total_deceased.append(age_csv[age_csv['age']==x]['deceased'].max())"
   ]
  },
  {
   "cell_type": "code",
   "execution_count": 12,
   "metadata": {
    "colab": {},
    "colab_type": "code",
    "id": "BDyxfPyJ-H2H",
    "outputId": "70a88b70-5cbe-4ffc-e46b-f2c3dc34ad57",
    "scrolled": true
   },
   "outputs": [
    {
     "data": {
      "image/png": "[encoded data removed]",
      "text/plain": [
       "<Figure size 1080x720 with 1 Axes>"
      ]
     },
     "metadata": {
      "needs_background": "light"
     },
     "output_type": "display_data"
    }
   ],
   "source": [
    "# plot a bar graph for the deceased cases\n",
    "fig = plt.figure(figsize=(15,10))\n",
    "plt.bar(age_groups, total_deceased, color=['C0', 'C1', 'C2', 'C3', 'C4', 'C5', 'C6', 'C7', 'C8'])\n",
    "plt.title('Total deceased cases (by June 30, 2020)')\n",
    "plt.xlabel('Age group')\n",
    "plt.ylabel('Number of deceased patients')\n",
    "plt.show()"
   ]
  },
  {
   "cell_type": "code",
   "execution_count": 13,
   "metadata": {},
   "outputs": [],
   "source": [
    "                                                #Q8"
   ]
  },
  {
   "cell_type": "code",
   "execution_count": 14,
   "metadata": {},
   "outputs": [
    {
     "name": "stdout",
     "output_type": "stream",
     "text": [
      "Answer to Q8 :  80s\n"
     ]
    },
    {
     "name": "stderr",
     "output_type": "stream",
     "text": [
      "C:\\Users\\Kimtaeyoon\\Anaconda3\\lib\\site-packages\\ipykernel_launcher.py:1: FutureWarning: \n",
      "The current behaviour of 'Series.argmax' is deprecated, use 'idxmax'\n",
      "instead.\n",
      "The behavior of 'argmax' will be corrected to return the positional\n",
      "maximum in the future. For now, use 'series.values.argmax' or\n",
      "'np.argmax(np.array(values))' to get the position of the maximum\n",
      "row.\n",
      "  \"\"\"Entry point for launching an IPython kernel.\n"
     ]
    }
   ],
   "source": [
    "index = age_csv['deceased'].argmax()\n",
    "print(\"Answer to Q8 : \",age_csv.iloc[index]['age'])"
   ]
  },
  {
   "cell_type": "code",
   "execution_count": 15,
   "metadata": {},
   "outputs": [],
   "source": [
    "                                                #Q9"
   ]
  },
  {
   "cell_type": "code",
   "execution_count": 16,
   "metadata": {},
   "outputs": [
    {
     "name": "stdout",
     "output_type": "stream",
     "text": [
      "Answer to Q9 :  82\n"
     ]
    }
   ],
   "source": [
    "print(\"Answer to Q9 : \", age_csv[age_csv['age']=='70s'].iloc[-1]['deceased'])"
   ]
  },
  {
   "cell_type": "markdown",
   "metadata": {
    "colab_type": "text",
    "id": "Oa7f0jSR-H2L"
   },
   "source": [
    "You can use matplotlib to create different kinds of plots. See [this page](https://matplotlib.org/tutorials/introductory/sample_plots.html) for more details."
   ]
  },
  {
   "cell_type": "markdown",
   "metadata": {
    "colab_type": "text",
    "id": "a9EneVaI-H2L"
   },
   "source": [
    "### Task 2: Region"
   ]
  },
  {
   "cell_type": "code",
   "execution_count": 17,
   "metadata": {
    "colab": {},
    "colab_type": "code",
    "id": "PWLjtmGS-H2L"
   },
   "outputs": [],
   "source": [
    "# load/read the data\n",
    "# create appropriate plots"
   ]
  },
  {
   "cell_type": "code",
   "execution_count": 18,
   "metadata": {
    "scrolled": false
   },
   "outputs": [
    {
     "name": "stdout",
     "output_type": "stream",
     "text": [
      "./corona_dataset\\Case.csv\n",
      "./corona_dataset\\PatientInfo.csv\n",
      "./corona_dataset\\Policy.csv\n",
      "./corona_dataset\\Region.csv\n",
      "./corona_dataset\\SearchTrend.csv\n",
      "./corona_dataset\\SeoulFloating.csv\n",
      "./corona_dataset\\Time.csv\n",
      "./corona_dataset\\TimeAge.csv\n",
      "./corona_dataset\\TimeGender.csv\n",
      "./corona_dataset\\TimeProvince.csv\n",
      "./corona_dataset\\Weather.csv\n"
     ]
    }
   ],
   "source": [
    "for path in eda_paths:\n",
    "    print(path)"
   ]
  },
  {
   "cell_type": "code",
   "execution_count": 19,
   "metadata": {
    "scrolled": false
   },
   "outputs": [
    {
     "data": {
      "text/html": [
       "<div>\n",
       "<style scoped>\n",
       "    .dataframe tbody tr th:only-of-type {\n",
       "        vertical-align: middle;\n",
       "    }\n",
       "\n",
       "    .dataframe tbody tr th {\n",
       "        vertical-align: top;\n",
       "    }\n",
       "\n",
       "    .dataframe thead th {\n",
       "        text-align: right;\n",
       "    }\n",
       "</style>\n",
       "<table border=\"1\" class=\"dataframe\">\n",
       "  <thead>\n",
       "    <tr style=\"text-align: right;\">\n",
       "      <th></th>\n",
       "      <th>date</th>\n",
       "      <th>time</th>\n",
       "      <th>province</th>\n",
       "      <th>confirmed</th>\n",
       "      <th>released</th>\n",
       "      <th>deceased</th>\n",
       "    </tr>\n",
       "  </thead>\n",
       "  <tbody>\n",
       "    <tr>\n",
       "      <td>0</td>\n",
       "      <td>2020-01-20</td>\n",
       "      <td>16</td>\n",
       "      <td>Seoul</td>\n",
       "      <td>0</td>\n",
       "      <td>0</td>\n",
       "      <td>0</td>\n",
       "    </tr>\n",
       "    <tr>\n",
       "      <td>1</td>\n",
       "      <td>2020-01-20</td>\n",
       "      <td>16</td>\n",
       "      <td>Busan</td>\n",
       "      <td>0</td>\n",
       "      <td>0</td>\n",
       "      <td>0</td>\n",
       "    </tr>\n",
       "    <tr>\n",
       "      <td>2</td>\n",
       "      <td>2020-01-20</td>\n",
       "      <td>16</td>\n",
       "      <td>Daegu</td>\n",
       "      <td>0</td>\n",
       "      <td>0</td>\n",
       "      <td>0</td>\n",
       "    </tr>\n",
       "    <tr>\n",
       "      <td>3</td>\n",
       "      <td>2020-01-20</td>\n",
       "      <td>16</td>\n",
       "      <td>Incheon</td>\n",
       "      <td>1</td>\n",
       "      <td>0</td>\n",
       "      <td>0</td>\n",
       "    </tr>\n",
       "    <tr>\n",
       "      <td>4</td>\n",
       "      <td>2020-01-20</td>\n",
       "      <td>16</td>\n",
       "      <td>Gwangju</td>\n",
       "      <td>0</td>\n",
       "      <td>0</td>\n",
       "      <td>0</td>\n",
       "    </tr>\n",
       "    <tr>\n",
       "      <td>...</td>\n",
       "      <td>...</td>\n",
       "      <td>...</td>\n",
       "      <td>...</td>\n",
       "      <td>...</td>\n",
       "      <td>...</td>\n",
       "      <td>...</td>\n",
       "    </tr>\n",
       "    <tr>\n",
       "      <td>2766</td>\n",
       "      <td>2020-06-30</td>\n",
       "      <td>0</td>\n",
       "      <td>Jeollabuk-do</td>\n",
       "      <td>27</td>\n",
       "      <td>21</td>\n",
       "      <td>0</td>\n",
       "    </tr>\n",
       "    <tr>\n",
       "      <td>2767</td>\n",
       "      <td>2020-06-30</td>\n",
       "      <td>0</td>\n",
       "      <td>Jeollanam-do</td>\n",
       "      <td>24</td>\n",
       "      <td>19</td>\n",
       "      <td>0</td>\n",
       "    </tr>\n",
       "    <tr>\n",
       "      <td>2768</td>\n",
       "      <td>2020-06-30</td>\n",
       "      <td>0</td>\n",
       "      <td>Gyeongsangbuk-do</td>\n",
       "      <td>1389</td>\n",
       "      <td>1328</td>\n",
       "      <td>54</td>\n",
       "    </tr>\n",
       "    <tr>\n",
       "      <td>2769</td>\n",
       "      <td>2020-06-30</td>\n",
       "      <td>0</td>\n",
       "      <td>Gyeongsangnam-do</td>\n",
       "      <td>134</td>\n",
       "      <td>128</td>\n",
       "      <td>0</td>\n",
       "    </tr>\n",
       "    <tr>\n",
       "      <td>2770</td>\n",
       "      <td>2020-06-30</td>\n",
       "      <td>0</td>\n",
       "      <td>Jeju-do</td>\n",
       "      <td>19</td>\n",
       "      <td>16</td>\n",
       "      <td>0</td>\n",
       "    </tr>\n",
       "  </tbody>\n",
       "</table>\n",
       "<p>2771 rows × 6 columns</p>\n",
       "</div>"
      ],
      "text/plain": [
       "            date  time          province  confirmed  released  deceased\n",
       "0     2020-01-20    16             Seoul          0         0         0\n",
       "1     2020-01-20    16             Busan          0         0         0\n",
       "2     2020-01-20    16             Daegu          0         0         0\n",
       "3     2020-01-20    16           Incheon          1         0         0\n",
       "4     2020-01-20    16           Gwangju          0         0         0\n",
       "...          ...   ...               ...        ...       ...       ...\n",
       "2766  2020-06-30     0      Jeollabuk-do         27        21         0\n",
       "2767  2020-06-30     0      Jeollanam-do         24        19         0\n",
       "2768  2020-06-30     0  Gyeongsangbuk-do       1389      1328        54\n",
       "2769  2020-06-30     0  Gyeongsangnam-do        134       128         0\n",
       "2770  2020-06-30     0           Jeju-do         19        16         0\n",
       "\n",
       "[2771 rows x 6 columns]"
      ]
     },
     "execution_count": 19,
     "metadata": {},
     "output_type": "execute_result"
    }
   ],
   "source": [
    "region_csv = pd.read_csv(eda_paths[9]) # read the data\n",
    "region_csv"
   ]
  },
  {
   "cell_type": "code",
   "execution_count": 20,
   "metadata": {},
   "outputs": [],
   "source": [
    "                                                #10"
   ]
  },
  {
   "cell_type": "code",
   "execution_count": 21,
   "metadata": {},
   "outputs": [
    {
     "name": "stdout",
     "output_type": "stream",
     "text": [
      "Answer to Q10 :  6906\n"
     ]
    }
   ],
   "source": [
    "confirmed_largest = region_csv['confirmed'].max()\n",
    "#print(\"Answer to Q8 : \", region_csv.iloc[index]['age'])\n",
    "print(\"Answer to Q10 : \", confirmed_largest)"
   ]
  },
  {
   "cell_type": "code",
   "execution_count": 22,
   "metadata": {},
   "outputs": [],
   "source": [
    "                                                #11"
   ]
  },
  {
   "cell_type": "code",
   "execution_count": 23,
   "metadata": {},
   "outputs": [
    {
     "name": "stdout",
     "output_type": "stream",
     "text": [
      "Answer to Q11 :  321\n"
     ]
    }
   ],
   "source": [
    "released_average = region_csv['released'].mean()\n",
    "print(\"Answer to Q11 : \", round(released_average))"
   ]
  },
  {
   "cell_type": "code",
   "execution_count": 24,
   "metadata": {},
   "outputs": [],
   "source": [
    "                                                #12"
   ]
  },
  {
   "cell_type": "code",
   "execution_count": 29,
   "metadata": {},
   "outputs": [
    {
     "name": "stdout",
     "output_type": "stream",
     "text": [
      "Answer to Q12 :  17\n"
     ]
    }
   ],
   "source": [
    "provinces_lot = region_csv['province'].nunique()\n",
    "print(\"Answer to Q12 : \", provinces_lot)"
   ]
  },
  {
   "cell_type": "code",
   "execution_count": 30,
   "metadata": {},
   "outputs": [],
   "source": [
    "                                                #13"
   ]
  },
  {
   "cell_type": "code",
   "execution_count": 32,
   "metadata": {},
   "outputs": [
    {
     "data": {
      "text/html": [
       "<div>\n",
       "<style scoped>\n",
       "    .dataframe tbody tr th:only-of-type {\n",
       "        vertical-align: middle;\n",
       "    }\n",
       "\n",
       "    .dataframe tbody tr th {\n",
       "        vertical-align: top;\n",
       "    }\n",
       "\n",
       "    .dataframe thead th {\n",
       "        text-align: right;\n",
       "    }\n",
       "</style>\n",
       "<table border=\"1\" class=\"dataframe\">\n",
       "  <thead>\n",
       "    <tr style=\"text-align: right;\">\n",
       "      <th></th>\n",
       "      <th>province</th>\n",
       "      <th>confirmed</th>\n",
       "    </tr>\n",
       "  </thead>\n",
       "  <tbody>\n",
       "    <tr>\n",
       "      <td>2756</td>\n",
       "      <td>Daegu</td>\n",
       "      <td>6906</td>\n",
       "    </tr>\n",
       "    <tr>\n",
       "      <td>2768</td>\n",
       "      <td>Gyeongsangbuk-do</td>\n",
       "      <td>1389</td>\n",
       "    </tr>\n",
       "    <tr>\n",
       "      <td>2754</td>\n",
       "      <td>Seoul</td>\n",
       "      <td>1312</td>\n",
       "    </tr>\n",
       "    <tr>\n",
       "      <td>2762</td>\n",
       "      <td>Gyeonggi-do</td>\n",
       "      <td>1207</td>\n",
       "    </tr>\n",
       "    <tr>\n",
       "      <td>2757</td>\n",
       "      <td>Incheon</td>\n",
       "      <td>341</td>\n",
       "    </tr>\n",
       "    <tr>\n",
       "      <td>2765</td>\n",
       "      <td>Chungcheongnam-do</td>\n",
       "      <td>167</td>\n",
       "    </tr>\n",
       "    <tr>\n",
       "      <td>2755</td>\n",
       "      <td>Busan</td>\n",
       "      <td>154</td>\n",
       "    </tr>\n",
       "    <tr>\n",
       "      <td>2769</td>\n",
       "      <td>Gyeongsangnam-do</td>\n",
       "      <td>134</td>\n",
       "    </tr>\n",
       "    <tr>\n",
       "      <td>2759</td>\n",
       "      <td>Daejeon</td>\n",
       "      <td>117</td>\n",
       "    </tr>\n",
       "    <tr>\n",
       "      <td>2763</td>\n",
       "      <td>Gangwon-do</td>\n",
       "      <td>65</td>\n",
       "    </tr>\n",
       "    <tr>\n",
       "      <td>2764</td>\n",
       "      <td>Chungcheongbuk-do</td>\n",
       "      <td>65</td>\n",
       "    </tr>\n",
       "    <tr>\n",
       "      <td>2760</td>\n",
       "      <td>Ulsan</td>\n",
       "      <td>55</td>\n",
       "    </tr>\n",
       "    <tr>\n",
       "      <td>2761</td>\n",
       "      <td>Sejong</td>\n",
       "      <td>50</td>\n",
       "    </tr>\n",
       "    <tr>\n",
       "      <td>2758</td>\n",
       "      <td>Gwangju</td>\n",
       "      <td>44</td>\n",
       "    </tr>\n",
       "    <tr>\n",
       "      <td>2766</td>\n",
       "      <td>Jeollabuk-do</td>\n",
       "      <td>27</td>\n",
       "    </tr>\n",
       "    <tr>\n",
       "      <td>2767</td>\n",
       "      <td>Jeollanam-do</td>\n",
       "      <td>24</td>\n",
       "    </tr>\n",
       "    <tr>\n",
       "      <td>2770</td>\n",
       "      <td>Jeju-do</td>\n",
       "      <td>19</td>\n",
       "    </tr>\n",
       "  </tbody>\n",
       "</table>\n",
       "</div>"
      ],
      "text/plain": [
       "               province  confirmed\n",
       "2756              Daegu       6906\n",
       "2768   Gyeongsangbuk-do       1389\n",
       "2754              Seoul       1312\n",
       "2762        Gyeonggi-do       1207\n",
       "2757            Incheon        341\n",
       "2765  Chungcheongnam-do        167\n",
       "2755              Busan        154\n",
       "2769   Gyeongsangnam-do        134\n",
       "2759            Daejeon        117\n",
       "2763         Gangwon-do         65\n",
       "2764  Chungcheongbuk-do         65\n",
       "2760              Ulsan         55\n",
       "2761             Sejong         50\n",
       "2758            Gwangju         44\n",
       "2766       Jeollabuk-do         27\n",
       "2767       Jeollanam-do         24\n",
       "2770            Jeju-do         19"
      ]
     },
     "execution_count": 32,
     "metadata": {},
     "output_type": "execute_result"
    }
   ],
   "source": [
    "provinces_1 = region_csv[region_csv['date']=='2020-06-30'].drop(columns=['time','date','released','deceased'])\n",
    "provinces_2 = provinces_1.sort_values(by = 'confirmed',ascending = False)\n",
    "provinces_2"
   ]
  },
  {
   "cell_type": "code",
   "execution_count": 33,
   "metadata": {},
   "outputs": [
    {
     "name": "stdout",
     "output_type": "stream",
     "text": [
      "Answers to Q13 :  3\n"
     ]
    }
   ],
   "source": [
    "print(\"Answers to Q13 : \", \"3\")"
   ]
  },
  {
   "cell_type": "code",
   "execution_count": 34,
   "metadata": {},
   "outputs": [],
   "source": [
    "                                                #14"
   ]
  },
  {
   "cell_type": "code",
   "execution_count": 35,
   "metadata": {},
   "outputs": [
    {
     "name": "stdout",
     "output_type": "stream",
     "text": [
      "Answers to Q14 :  10.86\n"
     ]
    }
   ],
   "source": [
    "province_14_1 = region_csv[region_csv['date']=='2020-06-30']['confirmed'].sum()\n",
    "province_14_2 = region_csv[region_csv['province']=='Seoul']['confirmed'][region_csv['date']=='2020-06-30']\n",
    "answer_14 = 100 * province_14_2.iloc[-1] / province_14_1\n",
    "print('Answers to Q14 : ',round(answer_14, 2))"
   ]
  },
  {
   "cell_type": "code",
   "execution_count": 36,
   "metadata": {},
   "outputs": [],
   "source": [
    "                                                #15"
   ]
  },
  {
   "cell_type": "code",
   "execution_count": 37,
   "metadata": {},
   "outputs": [
    {
     "name": "stdout",
     "output_type": "stream",
     "text": [
      "Answer to Q15 :  1132\n"
     ]
    },
    {
     "name": "stderr",
     "output_type": "stream",
     "text": [
      "C:\\Users\\Kimtaeyoon\\Anaconda3\\lib\\site-packages\\ipykernel_launcher.py:2: UserWarning: Boolean Series key will be reindexed to match DataFrame index.\n",
      "  \n"
     ]
    }
   ],
   "source": [
    "answer_15 = region_csv[region_csv['date'] == '2020-02-27']\n",
    "answer_15 = answer_15[region_csv['province'] == 'Daegu']\n",
    "print(\"Answer to Q15 : \", answer_15['confirmed'].sum())"
   ]
  },
  {
   "cell_type": "code",
   "execution_count": 38,
   "metadata": {},
   "outputs": [],
   "source": [
    "                                                #16"
   ]
  },
  {
   "cell_type": "code",
   "execution_count": 39,
   "metadata": {},
   "outputs": [],
   "source": [
    "region_csv['date'] = pd.to_datetime(region_csv['date'])"
   ]
  },
  {
   "cell_type": "code",
   "execution_count": 40,
   "metadata": {},
   "outputs": [
    {
     "data": {
      "image/png": "[encoded data removed]",
      "text/plain": [
       "<Figure size 1080x720 with 1 Axes>"
      ]
     },
     "metadata": {
      "needs_background": "light"
     },
     "output_type": "display_data"
    }
   ],
   "source": [
    "fig = plt.figure(figsize=(15,10))\n",
    "plt.title('Cumulative confirmed cases by Daegu')\n",
    "plt.plot('date', 'confirmed', data=region_csv[region_csv['province']=='Daegu'])\n",
    "plt.xlabel('Date')\n",
    "plt.ylabel('Number of cases')\n",
    "plt.gcf().autofmt_xdate()\n",
    "plt.show()"
   ]
  },
  {
   "cell_type": "code",
   "execution_count": 41,
   "metadata": {},
   "outputs": [
    {
     "name": "stdout",
     "output_type": "stream",
     "text": [
      "Answers to Q16 :  3\n"
     ]
    }
   ],
   "source": [
    "print(\"Answers to Q16 : \", 3)"
   ]
  },
  {
   "cell_type": "code",
   "execution_count": 42,
   "metadata": {},
   "outputs": [],
   "source": [
    "                                                #17"
   ]
  },
  {
   "cell_type": "code",
   "execution_count": 52,
   "metadata": {
    "scrolled": true
   },
   "outputs": [
    {
     "data": {
      "text/html": [
       "<div>\n",
       "<style scoped>\n",
       "    .dataframe tbody tr th:only-of-type {\n",
       "        vertical-align: middle;\n",
       "    }\n",
       "\n",
       "    .dataframe tbody tr th {\n",
       "        vertical-align: top;\n",
       "    }\n",
       "\n",
       "    .dataframe thead th {\n",
       "        text-align: right;\n",
       "    }\n",
       "</style>\n",
       "<table border=\"1\" class=\"dataframe\">\n",
       "  <thead>\n",
       "    <tr style=\"text-align: right;\">\n",
       "      <th></th>\n",
       "      <th>date</th>\n",
       "      <th>time</th>\n",
       "      <th>province</th>\n",
       "      <th>confirmed</th>\n",
       "      <th>released</th>\n",
       "      <th>deceased</th>\n",
       "    </tr>\n",
       "  </thead>\n",
       "  <tbody>\n",
       "    <tr>\n",
       "      <td>1836</td>\n",
       "      <td>2020-05-07</td>\n",
       "      <td>0</td>\n",
       "      <td>Seoul</td>\n",
       "      <td>637</td>\n",
       "      <td>508</td>\n",
       "      <td>2</td>\n",
       "    </tr>\n",
       "  </tbody>\n",
       "</table>\n",
       "</div>"
      ],
      "text/plain": [
       "           date  time province  confirmed  released  deceased\n",
       "1836 2020-05-07     0    Seoul        637       508         2"
      ]
     },
     "execution_count": 52,
     "metadata": {},
     "output_type": "execute_result"
    }
   ],
   "source": [
    "provinces_seoul_508 = region_csv[region_csv['released'] == 508]\n",
    "provinces_seoul_508"
   ]
  },
  {
   "cell_type": "code",
   "execution_count": 53,
   "metadata": {},
   "outputs": [
    {
     "data": {
      "text/plain": [
       "1836   2020-05-07\n",
       "Name: date, dtype: datetime64[ns]"
      ]
     },
     "execution_count": 53,
     "metadata": {},
     "output_type": "execute_result"
    }
   ],
   "source": [
    "provinces_seoul_508_date = provinces_seoul_508['date']\n",
    "provinces_seoul_508_date"
   ]
  },
  {
   "cell_type": "code",
   "execution_count": 54,
   "metadata": {},
   "outputs": [
    {
     "name": "stdout",
     "output_type": "stream",
     "text": [
      "Answer to Q17 :  7\n"
     ]
    }
   ],
   "source": [
    "print(\"Answer to Q17 : \", 7)"
   ]
  },
  {
   "cell_type": "markdown",
   "metadata": {
    "colab_type": "text",
    "id": "4dNhZv9z-H2N"
   },
   "source": [
    "### Task 3: Gender"
   ]
  },
  {
   "cell_type": "code",
   "execution_count": 55,
   "metadata": {},
   "outputs": [
    {
     "name": "stdout",
     "output_type": "stream",
     "text": [
      "./corona_dataset\\Case.csv\n",
      "./corona_dataset\\PatientInfo.csv\n",
      "./corona_dataset\\Policy.csv\n",
      "./corona_dataset\\Region.csv\n",
      "./corona_dataset\\SearchTrend.csv\n",
      "./corona_dataset\\SeoulFloating.csv\n",
      "./corona_dataset\\Time.csv\n",
      "./corona_dataset\\TimeAge.csv\n",
      "./corona_dataset\\TimeGender.csv\n",
      "./corona_dataset\\TimeProvince.csv\n",
      "./corona_dataset\\Weather.csv\n"
     ]
    }
   ],
   "source": [
    "for path in eda_paths:\n",
    "    print(path)"
   ]
  },
  {
   "cell_type": "code",
   "execution_count": 56,
   "metadata": {
    "scrolled": false
   },
   "outputs": [
    {
     "data": {
      "text/html": [
       "<div>\n",
       "<style scoped>\n",
       "    .dataframe tbody tr th:only-of-type {\n",
       "        vertical-align: middle;\n",
       "    }\n",
       "\n",
       "    .dataframe tbody tr th {\n",
       "        vertical-align: top;\n",
       "    }\n",
       "\n",
       "    .dataframe thead th {\n",
       "        text-align: right;\n",
       "    }\n",
       "</style>\n",
       "<table border=\"1\" class=\"dataframe\">\n",
       "  <thead>\n",
       "    <tr style=\"text-align: right;\">\n",
       "      <th></th>\n",
       "      <th>date</th>\n",
       "      <th>time</th>\n",
       "      <th>sex</th>\n",
       "      <th>confirmed</th>\n",
       "      <th>deceased</th>\n",
       "    </tr>\n",
       "  </thead>\n",
       "  <tbody>\n",
       "    <tr>\n",
       "      <td>0</td>\n",
       "      <td>2020-03-02</td>\n",
       "      <td>0</td>\n",
       "      <td>male</td>\n",
       "      <td>1591</td>\n",
       "      <td>13</td>\n",
       "    </tr>\n",
       "    <tr>\n",
       "      <td>1</td>\n",
       "      <td>2020-03-02</td>\n",
       "      <td>0</td>\n",
       "      <td>female</td>\n",
       "      <td>2621</td>\n",
       "      <td>9</td>\n",
       "    </tr>\n",
       "    <tr>\n",
       "      <td>2</td>\n",
       "      <td>2020-03-03</td>\n",
       "      <td>0</td>\n",
       "      <td>male</td>\n",
       "      <td>1810</td>\n",
       "      <td>16</td>\n",
       "    </tr>\n",
       "    <tr>\n",
       "      <td>3</td>\n",
       "      <td>2020-03-03</td>\n",
       "      <td>0</td>\n",
       "      <td>female</td>\n",
       "      <td>3002</td>\n",
       "      <td>12</td>\n",
       "    </tr>\n",
       "    <tr>\n",
       "      <td>4</td>\n",
       "      <td>2020-03-04</td>\n",
       "      <td>0</td>\n",
       "      <td>male</td>\n",
       "      <td>1996</td>\n",
       "      <td>20</td>\n",
       "    </tr>\n",
       "    <tr>\n",
       "      <td>...</td>\n",
       "      <td>...</td>\n",
       "      <td>...</td>\n",
       "      <td>...</td>\n",
       "      <td>...</td>\n",
       "      <td>...</td>\n",
       "    </tr>\n",
       "    <tr>\n",
       "      <td>237</td>\n",
       "      <td>2020-06-28</td>\n",
       "      <td>0</td>\n",
       "      <td>female</td>\n",
       "      <td>7265</td>\n",
       "      <td>131</td>\n",
       "    </tr>\n",
       "    <tr>\n",
       "      <td>238</td>\n",
       "      <td>2020-06-29</td>\n",
       "      <td>0</td>\n",
       "      <td>male</td>\n",
       "      <td>5470</td>\n",
       "      <td>151</td>\n",
       "    </tr>\n",
       "    <tr>\n",
       "      <td>239</td>\n",
       "      <td>2020-06-29</td>\n",
       "      <td>0</td>\n",
       "      <td>female</td>\n",
       "      <td>7287</td>\n",
       "      <td>131</td>\n",
       "    </tr>\n",
       "    <tr>\n",
       "      <td>240</td>\n",
       "      <td>2020-06-30</td>\n",
       "      <td>0</td>\n",
       "      <td>male</td>\n",
       "      <td>5495</td>\n",
       "      <td>151</td>\n",
       "    </tr>\n",
       "    <tr>\n",
       "      <td>241</td>\n",
       "      <td>2020-06-30</td>\n",
       "      <td>0</td>\n",
       "      <td>female</td>\n",
       "      <td>7305</td>\n",
       "      <td>131</td>\n",
       "    </tr>\n",
       "  </tbody>\n",
       "</table>\n",
       "<p>242 rows × 5 columns</p>\n",
       "</div>"
      ],
      "text/plain": [
       "           date  time     sex  confirmed  deceased\n",
       "0    2020-03-02     0    male       1591        13\n",
       "1    2020-03-02     0  female       2621         9\n",
       "2    2020-03-03     0    male       1810        16\n",
       "3    2020-03-03     0  female       3002        12\n",
       "4    2020-03-04     0    male       1996        20\n",
       "..          ...   ...     ...        ...       ...\n",
       "237  2020-06-28     0  female       7265       131\n",
       "238  2020-06-29     0    male       5470       151\n",
       "239  2020-06-29     0  female       7287       131\n",
       "240  2020-06-30     0    male       5495       151\n",
       "241  2020-06-30     0  female       7305       131\n",
       "\n",
       "[242 rows x 5 columns]"
      ]
     },
     "execution_count": 56,
     "metadata": {},
     "output_type": "execute_result"
    }
   ],
   "source": [
    "gender_csv = pd.read_csv(eda_paths[8]) # read the data\n",
    "gender_csv"
   ]
  },
  {
   "cell_type": "code",
   "execution_count": 57,
   "metadata": {},
   "outputs": [],
   "source": [
    "                                                #18"
   ]
  },
  {
   "cell_type": "code",
   "execution_count": 58,
   "metadata": {},
   "outputs": [
    {
     "data": {
      "text/html": [
       "<div>\n",
       "<style scoped>\n",
       "    .dataframe tbody tr th:only-of-type {\n",
       "        vertical-align: middle;\n",
       "    }\n",
       "\n",
       "    .dataframe tbody tr th {\n",
       "        vertical-align: top;\n",
       "    }\n",
       "\n",
       "    .dataframe thead th {\n",
       "        text-align: right;\n",
       "    }\n",
       "</style>\n",
       "<table border=\"1\" class=\"dataframe\">\n",
       "  <thead>\n",
       "    <tr style=\"text-align: right;\">\n",
       "      <th></th>\n",
       "      <th>date</th>\n",
       "      <th>time</th>\n",
       "      <th>sex</th>\n",
       "      <th>confirmed</th>\n",
       "      <th>deceased</th>\n",
       "    </tr>\n",
       "  </thead>\n",
       "  <tbody>\n",
       "    <tr>\n",
       "      <td>240</td>\n",
       "      <td>2020-06-30</td>\n",
       "      <td>0</td>\n",
       "      <td>male</td>\n",
       "      <td>5495</td>\n",
       "      <td>151</td>\n",
       "    </tr>\n",
       "    <tr>\n",
       "      <td>241</td>\n",
       "      <td>2020-06-30</td>\n",
       "      <td>0</td>\n",
       "      <td>female</td>\n",
       "      <td>7305</td>\n",
       "      <td>131</td>\n",
       "    </tr>\n",
       "  </tbody>\n",
       "</table>\n",
       "</div>"
      ],
      "text/plain": [
       "           date  time     sex  confirmed  deceased\n",
       "240  2020-06-30     0    male       5495       151\n",
       "241  2020-06-30     0  female       7305       131"
      ]
     },
     "execution_count": 58,
     "metadata": {},
     "output_type": "execute_result"
    }
   ],
   "source": [
    "end_of_june = gender_csv[gender_csv['date'] == '2020-06-30']\n",
    "end_of_june"
   ]
  },
  {
   "cell_type": "code",
   "execution_count": 59,
   "metadata": {},
   "outputs": [
    {
     "data": {
      "text/plain": [
       "12800"
      ]
     },
     "execution_count": 59,
     "metadata": {},
     "output_type": "execute_result"
    }
   ],
   "source": [
    "sex_confirmed = end_of_june['confirmed'].sum()\n",
    "sex_confirmed"
   ]
  },
  {
   "cell_type": "code",
   "execution_count": 60,
   "metadata": {},
   "outputs": [
    {
     "data": {
      "text/plain": [
       "241    7305\n",
       "Name: confirmed, dtype: int64"
      ]
     },
     "execution_count": 60,
     "metadata": {},
     "output_type": "execute_result"
    }
   ],
   "source": [
    "sex_confirmed_female = end_of_june['confirmed'].loc[end_of_june['sex'] == 'female']\n",
    "sex_confirmed_female"
   ]
  },
  {
   "cell_type": "code",
   "execution_count": 61,
   "metadata": {},
   "outputs": [
    {
     "name": "stdout",
     "output_type": "stream",
     "text": [
      "Answer to Q18 :  57.07\n"
     ]
    }
   ],
   "source": [
    "answer_18 = round(100 * sex_confirmed_female / sex_confirmed, 2)\n",
    "print(\"Answer to Q18 : \", float(answer_18))"
   ]
  },
  {
   "cell_type": "code",
   "execution_count": 62,
   "metadata": {},
   "outputs": [],
   "source": [
    "                                                #19"
   ]
  },
  {
   "cell_type": "code",
   "execution_count": 63,
   "metadata": {},
   "outputs": [
    {
     "data": {
      "text/plain": [
       "240    5495\n",
       "Name: confirmed, dtype: int64"
      ]
     },
     "execution_count": 63,
     "metadata": {},
     "output_type": "execute_result"
    }
   ],
   "source": [
    "sex_confirmed_male = end_of_june['confirmed'].loc[end_of_june['sex'] == 'male']\n",
    "sex_confirmed_male"
   ]
  },
  {
   "cell_type": "code",
   "execution_count": 64,
   "metadata": {},
   "outputs": [
    {
     "name": "stdout",
     "output_type": "stream",
     "text": [
      "Answer to Q19 :  42.93\n"
     ]
    }
   ],
   "source": [
    "answer_19 = round(100 * sex_confirmed_male / sex_confirmed, 2)\n",
    "print(\"Answer to Q19 : \", float(answer_19))"
   ]
  },
  {
   "cell_type": "code",
   "execution_count": 65,
   "metadata": {},
   "outputs": [],
   "source": [
    "                                                #20"
   ]
  },
  {
   "cell_type": "code",
   "execution_count": 66,
   "metadata": {},
   "outputs": [
    {
     "data": {
      "text/plain": [
       "282"
      ]
     },
     "execution_count": 66,
     "metadata": {},
     "output_type": "execute_result"
    }
   ],
   "source": [
    "sex_deceased = end_of_june['deceased'].sum()\n",
    "sex_deceased"
   ]
  },
  {
   "cell_type": "code",
   "execution_count": 67,
   "metadata": {},
   "outputs": [
    {
     "data": {
      "text/plain": [
       "241    131\n",
       "Name: deceased, dtype: int64"
      ]
     },
     "execution_count": 67,
     "metadata": {},
     "output_type": "execute_result"
    }
   ],
   "source": [
    "sex_deceased_female = end_of_june['deceased'].loc[end_of_june['sex'] == 'female']\n",
    "sex_deceased_female"
   ]
  },
  {
   "cell_type": "code",
   "execution_count": 68,
   "metadata": {},
   "outputs": [
    {
     "name": "stdout",
     "output_type": "stream",
     "text": [
      "Answer to Q20 :  46.45\n"
     ]
    }
   ],
   "source": [
    "answer_20 = round(100 * sex_deceased_female / sex_deceased,2)\n",
    "print(\"Answer to Q20 : \", float(answer_20))"
   ]
  },
  {
   "cell_type": "code",
   "execution_count": 69,
   "metadata": {},
   "outputs": [],
   "source": [
    "                                                #21"
   ]
  },
  {
   "cell_type": "code",
   "execution_count": 70,
   "metadata": {},
   "outputs": [
    {
     "data": {
      "text/plain": [
       "240    151\n",
       "Name: deceased, dtype: int64"
      ]
     },
     "execution_count": 70,
     "metadata": {},
     "output_type": "execute_result"
    }
   ],
   "source": [
    "sex_deceased_male = end_of_june['deceased'].loc[end_of_june['sex'] == 'male']\n",
    "sex_deceased_male"
   ]
  },
  {
   "cell_type": "code",
   "execution_count": 71,
   "metadata": {},
   "outputs": [
    {
     "name": "stdout",
     "output_type": "stream",
     "text": [
      "Answer to Q21 :  53.55\n"
     ]
    }
   ],
   "source": [
    "answer_21 = round(100 * sex_deceased_male / sex_deceased,2)\n",
    "print(\"Answer to Q21 : \", float(answer_21))"
   ]
  },
  {
   "cell_type": "markdown",
   "metadata": {
    "colab_type": "text",
    "id": "MFYaBmrV-H2P"
   },
   "source": [
    "### Task 4: Path"
   ]
  },
  {
   "cell_type": "code",
   "execution_count": 72,
   "metadata": {
    "scrolled": false
   },
   "outputs": [
    {
     "name": "stdout",
     "output_type": "stream",
     "text": [
      "./corona_dataset\\Case.csv\n",
      "./corona_dataset\\PatientInfo.csv\n",
      "./corona_dataset\\Policy.csv\n",
      "./corona_dataset\\Region.csv\n",
      "./corona_dataset\\SearchTrend.csv\n",
      "./corona_dataset\\SeoulFloating.csv\n",
      "./corona_dataset\\Time.csv\n",
      "./corona_dataset\\TimeAge.csv\n",
      "./corona_dataset\\TimeGender.csv\n",
      "./corona_dataset\\TimeProvince.csv\n",
      "./corona_dataset\\Weather.csv\n"
     ]
    }
   ],
   "source": [
    "for path in eda_paths:\n",
    "    print(path)"
   ]
  },
  {
   "cell_type": "code",
   "execution_count": 73,
   "metadata": {
    "scrolled": true
   },
   "outputs": [
    {
     "data": {
      "text/html": [
       "<div>\n",
       "<style scoped>\n",
       "    .dataframe tbody tr th:only-of-type {\n",
       "        vertical-align: middle;\n",
       "    }\n",
       "\n",
       "    .dataframe tbody tr th {\n",
       "        vertical-align: top;\n",
       "    }\n",
       "\n",
       "    .dataframe thead th {\n",
       "        text-align: right;\n",
       "    }\n",
       "</style>\n",
       "<table border=\"1\" class=\"dataframe\">\n",
       "  <thead>\n",
       "    <tr style=\"text-align: right;\">\n",
       "      <th></th>\n",
       "      <th>case_id</th>\n",
       "      <th>province</th>\n",
       "      <th>city</th>\n",
       "      <th>group</th>\n",
       "      <th>infection_case</th>\n",
       "      <th>confirmed</th>\n",
       "      <th>latitude</th>\n",
       "      <th>longitude</th>\n",
       "    </tr>\n",
       "  </thead>\n",
       "  <tbody>\n",
       "    <tr>\n",
       "      <td>0</td>\n",
       "      <td>1000001</td>\n",
       "      <td>Seoul</td>\n",
       "      <td>Yongsan-gu</td>\n",
       "      <td>True</td>\n",
       "      <td>Itaewon Clubs</td>\n",
       "      <td>139</td>\n",
       "      <td>37.538621</td>\n",
       "      <td>126.992652</td>\n",
       "    </tr>\n",
       "    <tr>\n",
       "      <td>1</td>\n",
       "      <td>1000002</td>\n",
       "      <td>Seoul</td>\n",
       "      <td>Gwanak-gu</td>\n",
       "      <td>True</td>\n",
       "      <td>Richway</td>\n",
       "      <td>119</td>\n",
       "      <td>37.48208</td>\n",
       "      <td>126.901384</td>\n",
       "    </tr>\n",
       "    <tr>\n",
       "      <td>2</td>\n",
       "      <td>1000003</td>\n",
       "      <td>Seoul</td>\n",
       "      <td>Guro-gu</td>\n",
       "      <td>True</td>\n",
       "      <td>Guro-gu Call Center</td>\n",
       "      <td>95</td>\n",
       "      <td>37.508163</td>\n",
       "      <td>126.884387</td>\n",
       "    </tr>\n",
       "    <tr>\n",
       "      <td>3</td>\n",
       "      <td>1000004</td>\n",
       "      <td>Seoul</td>\n",
       "      <td>Yangcheon-gu</td>\n",
       "      <td>True</td>\n",
       "      <td>Yangcheon Table Tennis Club</td>\n",
       "      <td>43</td>\n",
       "      <td>37.546061</td>\n",
       "      <td>126.874209</td>\n",
       "    </tr>\n",
       "    <tr>\n",
       "      <td>4</td>\n",
       "      <td>1000005</td>\n",
       "      <td>Seoul</td>\n",
       "      <td>Dobong-gu</td>\n",
       "      <td>True</td>\n",
       "      <td>Day Care Center</td>\n",
       "      <td>43</td>\n",
       "      <td>37.679422</td>\n",
       "      <td>127.044374</td>\n",
       "    </tr>\n",
       "    <tr>\n",
       "      <td>...</td>\n",
       "      <td>...</td>\n",
       "      <td>...</td>\n",
       "      <td>...</td>\n",
       "      <td>...</td>\n",
       "      <td>...</td>\n",
       "      <td>...</td>\n",
       "      <td>...</td>\n",
       "      <td>...</td>\n",
       "    </tr>\n",
       "    <tr>\n",
       "      <td>169</td>\n",
       "      <td>6100012</td>\n",
       "      <td>Gyeongsangnam-do</td>\n",
       "      <td>-</td>\n",
       "      <td>False</td>\n",
       "      <td>etc</td>\n",
       "      <td>20</td>\n",
       "      <td>-</td>\n",
       "      <td>-</td>\n",
       "    </tr>\n",
       "    <tr>\n",
       "      <td>170</td>\n",
       "      <td>7000001</td>\n",
       "      <td>Jeju-do</td>\n",
       "      <td>-</td>\n",
       "      <td>False</td>\n",
       "      <td>overseas inflow</td>\n",
       "      <td>14</td>\n",
       "      <td>-</td>\n",
       "      <td>-</td>\n",
       "    </tr>\n",
       "    <tr>\n",
       "      <td>171</td>\n",
       "      <td>7000002</td>\n",
       "      <td>Jeju-do</td>\n",
       "      <td>-</td>\n",
       "      <td>False</td>\n",
       "      <td>contact with patient</td>\n",
       "      <td>0</td>\n",
       "      <td>-</td>\n",
       "      <td>-</td>\n",
       "    </tr>\n",
       "    <tr>\n",
       "      <td>172</td>\n",
       "      <td>7000003</td>\n",
       "      <td>Jeju-do</td>\n",
       "      <td>-</td>\n",
       "      <td>False</td>\n",
       "      <td>etc</td>\n",
       "      <td>4</td>\n",
       "      <td>-</td>\n",
       "      <td>-</td>\n",
       "    </tr>\n",
       "    <tr>\n",
       "      <td>173</td>\n",
       "      <td>7000004</td>\n",
       "      <td>Jeju-do</td>\n",
       "      <td>from other city</td>\n",
       "      <td>True</td>\n",
       "      <td>Itaewon Clubs</td>\n",
       "      <td>1</td>\n",
       "      <td>-</td>\n",
       "      <td>-</td>\n",
       "    </tr>\n",
       "  </tbody>\n",
       "</table>\n",
       "<p>174 rows × 8 columns</p>\n",
       "</div>"
      ],
      "text/plain": [
       "      case_id          province             city  group  \\\n",
       "0     1000001             Seoul       Yongsan-gu   True   \n",
       "1     1000002             Seoul        Gwanak-gu   True   \n",
       "2     1000003             Seoul          Guro-gu   True   \n",
       "3     1000004             Seoul     Yangcheon-gu   True   \n",
       "4     1000005             Seoul        Dobong-gu   True   \n",
       "..        ...               ...              ...    ...   \n",
       "169   6100012  Gyeongsangnam-do                -  False   \n",
       "170   7000001           Jeju-do                -  False   \n",
       "171   7000002           Jeju-do                -  False   \n",
       "172   7000003           Jeju-do                -  False   \n",
       "173   7000004           Jeju-do  from other city   True   \n",
       "\n",
       "                  infection_case  confirmed   latitude   longitude  \n",
       "0                  Itaewon Clubs        139  37.538621  126.992652  \n",
       "1                        Richway        119   37.48208  126.901384  \n",
       "2            Guro-gu Call Center         95  37.508163  126.884387  \n",
       "3    Yangcheon Table Tennis Club         43  37.546061  126.874209  \n",
       "4                Day Care Center         43  37.679422  127.044374  \n",
       "..                           ...        ...        ...         ...  \n",
       "169                          etc         20          -           -  \n",
       "170              overseas inflow         14          -           -  \n",
       "171         contact with patient          0          -           -  \n",
       "172                          etc          4          -           -  \n",
       "173                Itaewon Clubs          1          -           -  \n",
       "\n",
       "[174 rows x 8 columns]"
      ]
     },
     "execution_count": 73,
     "metadata": {},
     "output_type": "execute_result"
    }
   ],
   "source": [
    "path_csv = pd.read_csv(eda_paths[0]) # read the data\n",
    "path_csv"
   ]
  },
  {
   "cell_type": "code",
   "execution_count": 74,
   "metadata": {
    "colab": {},
    "colab_type": "code",
    "id": "CqRJR6EB-H2Q"
   },
   "outputs": [],
   "source": [
    "                                                #22"
   ]
  },
  {
   "cell_type": "code",
   "execution_count": 75,
   "metadata": {},
   "outputs": [
    {
     "name": "stdout",
     "output_type": "stream",
     "text": [
      "Answer to Q22 :  81\n"
     ]
    }
   ],
   "source": [
    "path_lot = path_csv['infection_case'].nunique()\n",
    "print(\"Answer to Q22 : \", path_lot)"
   ]
  },
  {
   "cell_type": "code",
   "execution_count": 76,
   "metadata": {},
   "outputs": [],
   "source": [
    "                                                #23"
   ]
  },
  {
   "cell_type": "code",
   "execution_count": 77,
   "metadata": {},
   "outputs": [
    {
     "data": {
      "text/plain": [
       "11395"
      ]
     },
     "execution_count": 77,
     "metadata": {},
     "output_type": "execute_result"
    }
   ],
   "source": [
    "path_total = path_csv['confirmed'].sum()\n",
    "path_total"
   ]
  },
  {
   "cell_type": "code",
   "execution_count": 78,
   "metadata": {},
   "outputs": [
    {
     "data": {
      "text/plain": [
       "5213"
      ]
     },
     "execution_count": 78,
     "metadata": {},
     "output_type": "execute_result"
    }
   ],
   "source": [
    "path_god = path_csv[path_csv['infection_case'] == 'Shincheonji Church']\n",
    "path_god_total = path_god['confirmed'].sum()\n",
    "path_god_total"
   ]
  },
  {
   "cell_type": "code",
   "execution_count": 79,
   "metadata": {},
   "outputs": [
    {
     "name": "stdout",
     "output_type": "stream",
     "text": [
      "Answer to Q23 :  45.75\n"
     ]
    }
   ],
   "source": [
    "answer_23 = 100 * path_god_total / path_total\n",
    "print(\"Answer to Q23 : \", round(answer_23, 2))"
   ]
  },
  {
   "cell_type": "code",
   "execution_count": 80,
   "metadata": {},
   "outputs": [],
   "source": [
    "                                                #24"
   ]
  },
  {
   "cell_type": "code",
   "execution_count": 81,
   "metadata": {
    "scrolled": true
   },
   "outputs": [
    {
     "data": {
      "text/html": [
       "<div>\n",
       "<style scoped>\n",
       "    .dataframe tbody tr th:only-of-type {\n",
       "        vertical-align: middle;\n",
       "    }\n",
       "\n",
       "    .dataframe tbody tr th {\n",
       "        vertical-align: top;\n",
       "    }\n",
       "\n",
       "    .dataframe thead th {\n",
       "        text-align: right;\n",
       "    }\n",
       "</style>\n",
       "<table border=\"1\" class=\"dataframe\">\n",
       "  <thead>\n",
       "    <tr style=\"text-align: right;\">\n",
       "      <th></th>\n",
       "      <th>case_id</th>\n",
       "      <th>province</th>\n",
       "      <th>city</th>\n",
       "      <th>group</th>\n",
       "      <th>infection_case</th>\n",
       "      <th>confirmed</th>\n",
       "      <th>latitude</th>\n",
       "      <th>longitude</th>\n",
       "    </tr>\n",
       "  </thead>\n",
       "  <tbody>\n",
       "    <tr>\n",
       "      <td>35</td>\n",
       "      <td>1000036</td>\n",
       "      <td>Seoul</td>\n",
       "      <td>-</td>\n",
       "      <td>False</td>\n",
       "      <td>overseas inflow</td>\n",
       "      <td>298</td>\n",
       "      <td>-</td>\n",
       "      <td>-</td>\n",
       "    </tr>\n",
       "    <tr>\n",
       "      <td>45</td>\n",
       "      <td>1100008</td>\n",
       "      <td>Busan</td>\n",
       "      <td>-</td>\n",
       "      <td>False</td>\n",
       "      <td>overseas inflow</td>\n",
       "      <td>36</td>\n",
       "      <td>-</td>\n",
       "      <td>-</td>\n",
       "    </tr>\n",
       "    <tr>\n",
       "      <td>55</td>\n",
       "      <td>1200008</td>\n",
       "      <td>Daegu</td>\n",
       "      <td>-</td>\n",
       "      <td>False</td>\n",
       "      <td>overseas inflow</td>\n",
       "      <td>41</td>\n",
       "      <td>-</td>\n",
       "      <td>-</td>\n",
       "    </tr>\n",
       "    <tr>\n",
       "      <td>60</td>\n",
       "      <td>1300003</td>\n",
       "      <td>Gwangju</td>\n",
       "      <td>-</td>\n",
       "      <td>False</td>\n",
       "      <td>overseas inflow</td>\n",
       "      <td>23</td>\n",
       "      <td>-</td>\n",
       "      <td>-</td>\n",
       "    </tr>\n",
       "    <tr>\n",
       "      <td>67</td>\n",
       "      <td>1400005</td>\n",
       "      <td>Incheon</td>\n",
       "      <td>-</td>\n",
       "      <td>False</td>\n",
       "      <td>overseas inflow</td>\n",
       "      <td>68</td>\n",
       "      <td>-</td>\n",
       "      <td>-</td>\n",
       "    </tr>\n",
       "    <tr>\n",
       "      <td>77</td>\n",
       "      <td>1500008</td>\n",
       "      <td>Daejeon</td>\n",
       "      <td>-</td>\n",
       "      <td>False</td>\n",
       "      <td>overseas inflow</td>\n",
       "      <td>15</td>\n",
       "      <td>-</td>\n",
       "      <td>-</td>\n",
       "    </tr>\n",
       "    <tr>\n",
       "      <td>81</td>\n",
       "      <td>1600002</td>\n",
       "      <td>Ulsan</td>\n",
       "      <td>-</td>\n",
       "      <td>False</td>\n",
       "      <td>overseas inflow</td>\n",
       "      <td>25</td>\n",
       "      <td>-</td>\n",
       "      <td>-</td>\n",
       "    </tr>\n",
       "    <tr>\n",
       "      <td>87</td>\n",
       "      <td>1700004</td>\n",
       "      <td>Sejong</td>\n",
       "      <td>-</td>\n",
       "      <td>False</td>\n",
       "      <td>overseas inflow</td>\n",
       "      <td>5</td>\n",
       "      <td>-</td>\n",
       "      <td>-</td>\n",
       "    </tr>\n",
       "    <tr>\n",
       "      <td>109</td>\n",
       "      <td>2000020</td>\n",
       "      <td>Gyeonggi-do</td>\n",
       "      <td>-</td>\n",
       "      <td>False</td>\n",
       "      <td>overseas inflow</td>\n",
       "      <td>305</td>\n",
       "      <td>-</td>\n",
       "      <td>-</td>\n",
       "    </tr>\n",
       "    <tr>\n",
       "      <td>117</td>\n",
       "      <td>3000006</td>\n",
       "      <td>Gangwon-do</td>\n",
       "      <td>-</td>\n",
       "      <td>False</td>\n",
       "      <td>overseas inflow</td>\n",
       "      <td>16</td>\n",
       "      <td>-</td>\n",
       "      <td>-</td>\n",
       "    </tr>\n",
       "    <tr>\n",
       "      <td>124</td>\n",
       "      <td>4000005</td>\n",
       "      <td>Chungcheongbuk-do</td>\n",
       "      <td>-</td>\n",
       "      <td>False</td>\n",
       "      <td>overseas inflow</td>\n",
       "      <td>13</td>\n",
       "      <td>-</td>\n",
       "      <td>-</td>\n",
       "    </tr>\n",
       "    <tr>\n",
       "      <td>132</td>\n",
       "      <td>4100006</td>\n",
       "      <td>Chungcheongnam-do</td>\n",
       "      <td>-</td>\n",
       "      <td>False</td>\n",
       "      <td>overseas inflow</td>\n",
       "      <td>16</td>\n",
       "      <td>-</td>\n",
       "      <td>-</td>\n",
       "    </tr>\n",
       "    <tr>\n",
       "      <td>138</td>\n",
       "      <td>5000004</td>\n",
       "      <td>Jeollabuk-do</td>\n",
       "      <td>-</td>\n",
       "      <td>False</td>\n",
       "      <td>overseas inflow</td>\n",
       "      <td>12</td>\n",
       "      <td>-</td>\n",
       "      <td>-</td>\n",
       "    </tr>\n",
       "    <tr>\n",
       "      <td>142</td>\n",
       "      <td>5100003</td>\n",
       "      <td>Jeollanam-do</td>\n",
       "      <td>-</td>\n",
       "      <td>False</td>\n",
       "      <td>overseas inflow</td>\n",
       "      <td>14</td>\n",
       "      <td>-</td>\n",
       "      <td>-</td>\n",
       "    </tr>\n",
       "    <tr>\n",
       "      <td>155</td>\n",
       "      <td>6000011</td>\n",
       "      <td>Gyeongsangbuk-do</td>\n",
       "      <td>-</td>\n",
       "      <td>False</td>\n",
       "      <td>overseas inflow</td>\n",
       "      <td>22</td>\n",
       "      <td>-</td>\n",
       "      <td>-</td>\n",
       "    </tr>\n",
       "    <tr>\n",
       "      <td>167</td>\n",
       "      <td>6100010</td>\n",
       "      <td>Gyeongsangnam-do</td>\n",
       "      <td>-</td>\n",
       "      <td>False</td>\n",
       "      <td>overseas inflow</td>\n",
       "      <td>26</td>\n",
       "      <td>-</td>\n",
       "      <td>-</td>\n",
       "    </tr>\n",
       "    <tr>\n",
       "      <td>170</td>\n",
       "      <td>7000001</td>\n",
       "      <td>Jeju-do</td>\n",
       "      <td>-</td>\n",
       "      <td>False</td>\n",
       "      <td>overseas inflow</td>\n",
       "      <td>14</td>\n",
       "      <td>-</td>\n",
       "      <td>-</td>\n",
       "    </tr>\n",
       "  </tbody>\n",
       "</table>\n",
       "</div>"
      ],
      "text/plain": [
       "      case_id           province city  group   infection_case  confirmed  \\\n",
       "35    1000036              Seoul    -  False  overseas inflow        298   \n",
       "45    1100008              Busan    -  False  overseas inflow         36   \n",
       "55    1200008              Daegu    -  False  overseas inflow         41   \n",
       "60    1300003            Gwangju    -  False  overseas inflow         23   \n",
       "67    1400005            Incheon    -  False  overseas inflow         68   \n",
       "77    1500008            Daejeon    -  False  overseas inflow         15   \n",
       "81    1600002              Ulsan    -  False  overseas inflow         25   \n",
       "87    1700004             Sejong    -  False  overseas inflow          5   \n",
       "109   2000020        Gyeonggi-do    -  False  overseas inflow        305   \n",
       "117   3000006         Gangwon-do    -  False  overseas inflow         16   \n",
       "124   4000005  Chungcheongbuk-do    -  False  overseas inflow         13   \n",
       "132   4100006  Chungcheongnam-do    -  False  overseas inflow         16   \n",
       "138   5000004       Jeollabuk-do    -  False  overseas inflow         12   \n",
       "142   5100003       Jeollanam-do    -  False  overseas inflow         14   \n",
       "155   6000011   Gyeongsangbuk-do    -  False  overseas inflow         22   \n",
       "167   6100010   Gyeongsangnam-do    -  False  overseas inflow         26   \n",
       "170   7000001            Jeju-do    -  False  overseas inflow         14   \n",
       "\n",
       "    latitude longitude  \n",
       "35         -         -  \n",
       "45         -         -  \n",
       "55         -         -  \n",
       "60         -         -  \n",
       "67         -         -  \n",
       "77         -         -  \n",
       "81         -         -  \n",
       "87         -         -  \n",
       "109        -         -  \n",
       "117        -         -  \n",
       "124        -         -  \n",
       "132        -         -  \n",
       "138        -         -  \n",
       "142        -         -  \n",
       "155        -         -  \n",
       "167        -         -  \n",
       "170        -         -  "
      ]
     },
     "execution_count": 81,
     "metadata": {},
     "output_type": "execute_result"
    }
   ],
   "source": [
    "path_from_oversea = path_csv[path_csv['infection_case'] == 'overseas inflow']\n",
    "path_from_oversea"
   ]
  },
  {
   "cell_type": "code",
   "execution_count": 82,
   "metadata": {},
   "outputs": [
    {
     "data": {
      "text/html": [
       "<div>\n",
       "<style scoped>\n",
       "    .dataframe tbody tr th:only-of-type {\n",
       "        vertical-align: middle;\n",
       "    }\n",
       "\n",
       "    .dataframe tbody tr th {\n",
       "        vertical-align: top;\n",
       "    }\n",
       "\n",
       "    .dataframe thead th {\n",
       "        text-align: right;\n",
       "    }\n",
       "</style>\n",
       "<table border=\"1\" class=\"dataframe\">\n",
       "  <thead>\n",
       "    <tr style=\"text-align: right;\">\n",
       "      <th></th>\n",
       "      <th>case_id</th>\n",
       "      <th>province</th>\n",
       "      <th>city</th>\n",
       "      <th>group</th>\n",
       "      <th>infection_case</th>\n",
       "      <th>confirmed</th>\n",
       "      <th>latitude</th>\n",
       "      <th>longitude</th>\n",
       "    </tr>\n",
       "  </thead>\n",
       "  <tbody>\n",
       "    <tr>\n",
       "      <td>35</td>\n",
       "      <td>1000036</td>\n",
       "      <td>Seoul</td>\n",
       "      <td>-</td>\n",
       "      <td>False</td>\n",
       "      <td>overseas inflow</td>\n",
       "      <td>298</td>\n",
       "      <td>-</td>\n",
       "      <td>-</td>\n",
       "    </tr>\n",
       "  </tbody>\n",
       "</table>\n",
       "</div>"
      ],
      "text/plain": [
       "     case_id province city  group   infection_case  confirmed latitude  \\\n",
       "35   1000036    Seoul    -  False  overseas inflow        298        -   \n",
       "\n",
       "   longitude  \n",
       "35         -  "
      ]
     },
     "execution_count": 82,
     "metadata": {},
     "output_type": "execute_result"
    }
   ],
   "source": [
    "path_from_oversea_seoul = path_from_oversea[path_from_oversea['province']=='Seoul']\n",
    "path_from_oversea_seoul"
   ]
  },
  {
   "cell_type": "code",
   "execution_count": 83,
   "metadata": {},
   "outputs": [
    {
     "data": {
      "text/plain": [
       "298"
      ]
     },
     "execution_count": 83,
     "metadata": {},
     "output_type": "execute_result"
    }
   ],
   "source": [
    "path_from_oversea_seoul_total = path_from_oversea_seoul['confirmed'].sum()\n",
    "path_from_oversea_seoul_total"
   ]
  },
  {
   "cell_type": "code",
   "execution_count": 84,
   "metadata": {},
   "outputs": [
    {
     "name": "stdout",
     "output_type": "stream",
     "text": [
      "Answer to Q24 :  2.62\n"
     ]
    }
   ],
   "source": [
    "print(\"Answer to Q24 : \", round(100 * path_from_oversea_seoul_total / path_total, 2))"
   ]
  },
  {
   "cell_type": "code",
   "execution_count": 85,
   "metadata": {},
   "outputs": [],
   "source": [
    "                                                #25"
   ]
  },
  {
   "cell_type": "code",
   "execution_count": 86,
   "metadata": {},
   "outputs": [
    {
     "name": "stdout",
     "output_type": "stream",
     "text": [
      "11395 7851\n",
      "Answer to Q25: 68.9\n"
     ]
    }
   ],
   "source": [
    "path_1 = path_csv['confirmed'].sum()\n",
    "path_2 = path_csv[path_csv['group']==1]['confirmed'].sum()\n",
    "print(path_1, path_2)\n",
    "path_3 = 100 * path_2 / path_1\n",
    "print('Answer to Q25:',round(path_3, 2))"
   ]
  },
  {
   "cell_type": "code",
   "execution_count": 87,
   "metadata": {},
   "outputs": [],
   "source": [
    "                                                #26"
   ]
  },
  {
   "cell_type": "code",
   "execution_count": 88,
   "metadata": {},
   "outputs": [
    {
     "name": "stdout",
     "output_type": "stream",
     "text": [
      "Answer to Q26: 3544\n"
     ]
    }
   ],
   "source": [
    "path_26 = path_csv[path_csv['group']==0]['confirmed'].sum()\n",
    "path_26\n",
    "print('Answer to Q26:', path_26)"
   ]
  },
  {
   "cell_type": "markdown",
   "metadata": {
    "colab_type": "text",
    "id": "NplbSrrd-H2R"
   },
   "source": [
    "### Task 5: Weather"
   ]
  },
  {
   "cell_type": "code",
   "execution_count": 89,
   "metadata": {
    "colab": {},
    "colab_type": "code",
    "id": "1ZxQZaRl-H2S"
   },
   "outputs": [],
   "source": [
    "# load/read the data\n",
    "# drop missing values (Null/NaN)\n",
    "# correct misspelled value under the provinces column\n",
    "# create appropriate plots"
   ]
  },
  {
   "cell_type": "code",
   "execution_count": 90,
   "metadata": {
    "scrolled": false
   },
   "outputs": [
    {
     "name": "stdout",
     "output_type": "stream",
     "text": [
      "./corona_dataset\\Case.csv\n",
      "./corona_dataset\\PatientInfo.csv\n",
      "./corona_dataset\\Policy.csv\n",
      "./corona_dataset\\Region.csv\n",
      "./corona_dataset\\SearchTrend.csv\n",
      "./corona_dataset\\SeoulFloating.csv\n",
      "./corona_dataset\\Time.csv\n",
      "./corona_dataset\\TimeAge.csv\n",
      "./corona_dataset\\TimeGender.csv\n",
      "./corona_dataset\\TimeProvince.csv\n",
      "./corona_dataset\\Weather.csv\n"
     ]
    }
   ],
   "source": [
    "for path in eda_paths:\n",
    "    print(path)"
   ]
  },
  {
   "cell_type": "code",
   "execution_count": 91,
   "metadata": {
    "scrolled": false
   },
   "outputs": [
    {
     "data": {
      "text/html": [
       "<div>\n",
       "<style scoped>\n",
       "    .dataframe tbody tr th:only-of-type {\n",
       "        vertical-align: middle;\n",
       "    }\n",
       "\n",
       "    .dataframe tbody tr th {\n",
       "        vertical-align: top;\n",
       "    }\n",
       "\n",
       "    .dataframe thead th {\n",
       "        text-align: right;\n",
       "    }\n",
       "</style>\n",
       "<table border=\"1\" class=\"dataframe\">\n",
       "  <thead>\n",
       "    <tr style=\"text-align: right;\">\n",
       "      <th></th>\n",
       "      <th>code</th>\n",
       "      <th>province</th>\n",
       "      <th>date</th>\n",
       "      <th>avg_temp</th>\n",
       "      <th>min_temp</th>\n",
       "      <th>max_temp</th>\n",
       "      <th>precipitation</th>\n",
       "      <th>max_wind_speed</th>\n",
       "      <th>most_wind_direction</th>\n",
       "      <th>avg_relative_humidity</th>\n",
       "    </tr>\n",
       "  </thead>\n",
       "  <tbody>\n",
       "    <tr>\n",
       "      <td>0</td>\n",
       "      <td>10000</td>\n",
       "      <td>Seoul</td>\n",
       "      <td>2016-01-01</td>\n",
       "      <td>1.2</td>\n",
       "      <td>-3.3</td>\n",
       "      <td>4.0</td>\n",
       "      <td>0.0</td>\n",
       "      <td>3.5</td>\n",
       "      <td>90.0</td>\n",
       "      <td>73.0</td>\n",
       "    </tr>\n",
       "    <tr>\n",
       "      <td>1</td>\n",
       "      <td>11000</td>\n",
       "      <td>Busan</td>\n",
       "      <td>2016-01-01</td>\n",
       "      <td>5.3</td>\n",
       "      <td>1.1</td>\n",
       "      <td>10.9</td>\n",
       "      <td>0.0</td>\n",
       "      <td>7.4</td>\n",
       "      <td>340.0</td>\n",
       "      <td>52.1</td>\n",
       "    </tr>\n",
       "    <tr>\n",
       "      <td>2</td>\n",
       "      <td>12000</td>\n",
       "      <td>Daegu</td>\n",
       "      <td>2016-01-01</td>\n",
       "      <td>1.7</td>\n",
       "      <td>-4.0</td>\n",
       "      <td>8.0</td>\n",
       "      <td>0.0</td>\n",
       "      <td>3.7</td>\n",
       "      <td>270.0</td>\n",
       "      <td>70.5</td>\n",
       "    </tr>\n",
       "    <tr>\n",
       "      <td>3</td>\n",
       "      <td>13000</td>\n",
       "      <td>Gwangju</td>\n",
       "      <td>2016-01-01</td>\n",
       "      <td>3.2</td>\n",
       "      <td>-1.5</td>\n",
       "      <td>8.1</td>\n",
       "      <td>0.0</td>\n",
       "      <td>2.7</td>\n",
       "      <td>230.0</td>\n",
       "      <td>73.1</td>\n",
       "    </tr>\n",
       "    <tr>\n",
       "      <td>4</td>\n",
       "      <td>14000</td>\n",
       "      <td>Incheon</td>\n",
       "      <td>2016-01-01</td>\n",
       "      <td>3.1</td>\n",
       "      <td>-0.4</td>\n",
       "      <td>5.7</td>\n",
       "      <td>0.0</td>\n",
       "      <td>5.3</td>\n",
       "      <td>180.0</td>\n",
       "      <td>83.9</td>\n",
       "    </tr>\n",
       "    <tr>\n",
       "      <td>...</td>\n",
       "      <td>...</td>\n",
       "      <td>...</td>\n",
       "      <td>...</td>\n",
       "      <td>...</td>\n",
       "      <td>...</td>\n",
       "      <td>...</td>\n",
       "      <td>...</td>\n",
       "      <td>...</td>\n",
       "      <td>...</td>\n",
       "      <td>...</td>\n",
       "    </tr>\n",
       "    <tr>\n",
       "      <td>26266</td>\n",
       "      <td>50000</td>\n",
       "      <td>Jeollabuk-do</td>\n",
       "      <td>2020-06-29</td>\n",
       "      <td>22.0</td>\n",
       "      <td>19.7</td>\n",
       "      <td>26.5</td>\n",
       "      <td>27.6</td>\n",
       "      <td>4.4</td>\n",
       "      <td>90.0</td>\n",
       "      <td>85.1</td>\n",
       "    </tr>\n",
       "    <tr>\n",
       "      <td>26267</td>\n",
       "      <td>51000</td>\n",
       "      <td>Jeollanam-do</td>\n",
       "      <td>2020-06-29</td>\n",
       "      <td>21.9</td>\n",
       "      <td>20.0</td>\n",
       "      <td>24.0</td>\n",
       "      <td>80.5</td>\n",
       "      <td>16.8</td>\n",
       "      <td>90.0</td>\n",
       "      <td>97.9</td>\n",
       "    </tr>\n",
       "    <tr>\n",
       "      <td>26268</td>\n",
       "      <td>60000</td>\n",
       "      <td>Gyeongsangbuk-do</td>\n",
       "      <td>2020-06-29</td>\n",
       "      <td>20.4</td>\n",
       "      <td>17.4</td>\n",
       "      <td>24.5</td>\n",
       "      <td>43.9</td>\n",
       "      <td>4.5</td>\n",
       "      <td>160.0</td>\n",
       "      <td>90.9</td>\n",
       "    </tr>\n",
       "    <tr>\n",
       "      <td>26269</td>\n",
       "      <td>61000</td>\n",
       "      <td>Gyeongsangnam-do</td>\n",
       "      <td>2020-06-29</td>\n",
       "      <td>21.9</td>\n",
       "      <td>18.8</td>\n",
       "      <td>25.5</td>\n",
       "      <td>98.9</td>\n",
       "      <td>5.8</td>\n",
       "      <td>160.0</td>\n",
       "      <td>85.0</td>\n",
       "    </tr>\n",
       "    <tr>\n",
       "      <td>26270</td>\n",
       "      <td>70000</td>\n",
       "      <td>Jeju-do</td>\n",
       "      <td>2020-06-29</td>\n",
       "      <td>23.2</td>\n",
       "      <td>19.1</td>\n",
       "      <td>27.6</td>\n",
       "      <td>25.1</td>\n",
       "      <td>12.8</td>\n",
       "      <td>270.0</td>\n",
       "      <td>87.4</td>\n",
       "    </tr>\n",
       "  </tbody>\n",
       "</table>\n",
       "<p>26271 rows × 10 columns</p>\n",
       "</div>"
      ],
      "text/plain": [
       "        code          province        date  avg_temp  min_temp  max_temp  \\\n",
       "0      10000             Seoul  2016-01-01       1.2      -3.3       4.0   \n",
       "1      11000             Busan  2016-01-01       5.3       1.1      10.9   \n",
       "2      12000             Daegu  2016-01-01       1.7      -4.0       8.0   \n",
       "3      13000           Gwangju  2016-01-01       3.2      -1.5       8.1   \n",
       "4      14000           Incheon  2016-01-01       3.1      -0.4       5.7   \n",
       "...      ...               ...         ...       ...       ...       ...   \n",
       "26266  50000      Jeollabuk-do  2020-06-29      22.0      19.7      26.5   \n",
       "26267  51000      Jeollanam-do  2020-06-29      21.9      20.0      24.0   \n",
       "26268  60000  Gyeongsangbuk-do  2020-06-29      20.4      17.4      24.5   \n",
       "26269  61000  Gyeongsangnam-do  2020-06-29      21.9      18.8      25.5   \n",
       "26270  70000           Jeju-do  2020-06-29      23.2      19.1      27.6   \n",
       "\n",
       "       precipitation  max_wind_speed  most_wind_direction  \\\n",
       "0                0.0             3.5                 90.0   \n",
       "1                0.0             7.4                340.0   \n",
       "2                0.0             3.7                270.0   \n",
       "3                0.0             2.7                230.0   \n",
       "4                0.0             5.3                180.0   \n",
       "...              ...             ...                  ...   \n",
       "26266           27.6             4.4                 90.0   \n",
       "26267           80.5            16.8                 90.0   \n",
       "26268           43.9             4.5                160.0   \n",
       "26269           98.9             5.8                160.0   \n",
       "26270           25.1            12.8                270.0   \n",
       "\n",
       "       avg_relative_humidity  \n",
       "0                       73.0  \n",
       "1                       52.1  \n",
       "2                       70.5  \n",
       "3                       73.1  \n",
       "4                       83.9  \n",
       "...                      ...  \n",
       "26266                   85.1  \n",
       "26267                   97.9  \n",
       "26268                   90.9  \n",
       "26269                   85.0  \n",
       "26270                   87.4  \n",
       "\n",
       "[26271 rows x 10 columns]"
      ]
     },
     "execution_count": 91,
     "metadata": {},
     "output_type": "execute_result"
    }
   ],
   "source": [
    "weather_csv = pd.read_csv(eda_paths[10]) # read the data\n",
    "weather_csv"
   ]
  },
  {
   "cell_type": "code",
   "execution_count": 92,
   "metadata": {},
   "outputs": [],
   "source": [
    "                                                #27"
   ]
  },
  {
   "cell_type": "code",
   "execution_count": 93,
   "metadata": {},
   "outputs": [
    {
     "name": "stdout",
     "output_type": "stream",
     "text": [
      "Answer to Q27 :  81\n"
     ]
    }
   ],
   "source": [
    "weather_nan_count = weather_csv.isnull().values.sum()\n",
    "print(\"Answer to Q27 : \", weather_nan_count)"
   ]
  },
  {
   "cell_type": "code",
   "execution_count": 94,
   "metadata": {},
   "outputs": [],
   "source": [
    "                                                #28"
   ]
  },
  {
   "cell_type": "code",
   "execution_count": 95,
   "metadata": {},
   "outputs": [
    {
     "data": {
      "text/html": [
       "<div>\n",
       "<style scoped>\n",
       "    .dataframe tbody tr th:only-of-type {\n",
       "        vertical-align: middle;\n",
       "    }\n",
       "\n",
       "    .dataframe tbody tr th {\n",
       "        vertical-align: top;\n",
       "    }\n",
       "\n",
       "    .dataframe thead th {\n",
       "        text-align: right;\n",
       "    }\n",
       "</style>\n",
       "<table border=\"1\" class=\"dataframe\">\n",
       "  <thead>\n",
       "    <tr style=\"text-align: right;\">\n",
       "      <th></th>\n",
       "      <th>code</th>\n",
       "      <th>province</th>\n",
       "      <th>date</th>\n",
       "      <th>avg_temp</th>\n",
       "      <th>min_temp</th>\n",
       "      <th>max_temp</th>\n",
       "      <th>precipitation</th>\n",
       "      <th>max_wind_speed</th>\n",
       "      <th>most_wind_direction</th>\n",
       "      <th>avg_relative_humidity</th>\n",
       "    </tr>\n",
       "  </thead>\n",
       "  <tbody>\n",
       "    <tr>\n",
       "      <td>0</td>\n",
       "      <td>10000</td>\n",
       "      <td>Seoul</td>\n",
       "      <td>2016-01-01</td>\n",
       "      <td>1.2</td>\n",
       "      <td>-3.3</td>\n",
       "      <td>4.0</td>\n",
       "      <td>0.0</td>\n",
       "      <td>3.5</td>\n",
       "      <td>90.0</td>\n",
       "      <td>73.0</td>\n",
       "    </tr>\n",
       "    <tr>\n",
       "      <td>1</td>\n",
       "      <td>11000</td>\n",
       "      <td>Busan</td>\n",
       "      <td>2016-01-01</td>\n",
       "      <td>5.3</td>\n",
       "      <td>1.1</td>\n",
       "      <td>10.9</td>\n",
       "      <td>0.0</td>\n",
       "      <td>7.4</td>\n",
       "      <td>340.0</td>\n",
       "      <td>52.1</td>\n",
       "    </tr>\n",
       "    <tr>\n",
       "      <td>2</td>\n",
       "      <td>12000</td>\n",
       "      <td>Daegu</td>\n",
       "      <td>2016-01-01</td>\n",
       "      <td>1.7</td>\n",
       "      <td>-4.0</td>\n",
       "      <td>8.0</td>\n",
       "      <td>0.0</td>\n",
       "      <td>3.7</td>\n",
       "      <td>270.0</td>\n",
       "      <td>70.5</td>\n",
       "    </tr>\n",
       "    <tr>\n",
       "      <td>3</td>\n",
       "      <td>13000</td>\n",
       "      <td>Gwangju</td>\n",
       "      <td>2016-01-01</td>\n",
       "      <td>3.2</td>\n",
       "      <td>-1.5</td>\n",
       "      <td>8.1</td>\n",
       "      <td>0.0</td>\n",
       "      <td>2.7</td>\n",
       "      <td>230.0</td>\n",
       "      <td>73.1</td>\n",
       "    </tr>\n",
       "    <tr>\n",
       "      <td>4</td>\n",
       "      <td>14000</td>\n",
       "      <td>Incheon</td>\n",
       "      <td>2016-01-01</td>\n",
       "      <td>3.1</td>\n",
       "      <td>-0.4</td>\n",
       "      <td>5.7</td>\n",
       "      <td>0.0</td>\n",
       "      <td>5.3</td>\n",
       "      <td>180.0</td>\n",
       "      <td>83.9</td>\n",
       "    </tr>\n",
       "    <tr>\n",
       "      <td>...</td>\n",
       "      <td>...</td>\n",
       "      <td>...</td>\n",
       "      <td>...</td>\n",
       "      <td>...</td>\n",
       "      <td>...</td>\n",
       "      <td>...</td>\n",
       "      <td>...</td>\n",
       "      <td>...</td>\n",
       "      <td>...</td>\n",
       "      <td>...</td>\n",
       "    </tr>\n",
       "    <tr>\n",
       "      <td>26266</td>\n",
       "      <td>50000</td>\n",
       "      <td>Jeollabuk-do</td>\n",
       "      <td>2020-06-29</td>\n",
       "      <td>22.0</td>\n",
       "      <td>19.7</td>\n",
       "      <td>26.5</td>\n",
       "      <td>27.6</td>\n",
       "      <td>4.4</td>\n",
       "      <td>90.0</td>\n",
       "      <td>85.1</td>\n",
       "    </tr>\n",
       "    <tr>\n",
       "      <td>26267</td>\n",
       "      <td>51000</td>\n",
       "      <td>Jeollanam-do</td>\n",
       "      <td>2020-06-29</td>\n",
       "      <td>21.9</td>\n",
       "      <td>20.0</td>\n",
       "      <td>24.0</td>\n",
       "      <td>80.5</td>\n",
       "      <td>16.8</td>\n",
       "      <td>90.0</td>\n",
       "      <td>97.9</td>\n",
       "    </tr>\n",
       "    <tr>\n",
       "      <td>26268</td>\n",
       "      <td>60000</td>\n",
       "      <td>Gyeongsangbuk-do</td>\n",
       "      <td>2020-06-29</td>\n",
       "      <td>20.4</td>\n",
       "      <td>17.4</td>\n",
       "      <td>24.5</td>\n",
       "      <td>43.9</td>\n",
       "      <td>4.5</td>\n",
       "      <td>160.0</td>\n",
       "      <td>90.9</td>\n",
       "    </tr>\n",
       "    <tr>\n",
       "      <td>26269</td>\n",
       "      <td>61000</td>\n",
       "      <td>Gyeongsangnam-do</td>\n",
       "      <td>2020-06-29</td>\n",
       "      <td>21.9</td>\n",
       "      <td>18.8</td>\n",
       "      <td>25.5</td>\n",
       "      <td>98.9</td>\n",
       "      <td>5.8</td>\n",
       "      <td>160.0</td>\n",
       "      <td>85.0</td>\n",
       "    </tr>\n",
       "    <tr>\n",
       "      <td>26270</td>\n",
       "      <td>70000</td>\n",
       "      <td>Jeju-do</td>\n",
       "      <td>2020-06-29</td>\n",
       "      <td>23.2</td>\n",
       "      <td>19.1</td>\n",
       "      <td>27.6</td>\n",
       "      <td>25.1</td>\n",
       "      <td>12.8</td>\n",
       "      <td>270.0</td>\n",
       "      <td>87.4</td>\n",
       "    </tr>\n",
       "  </tbody>\n",
       "</table>\n",
       "<p>26224 rows × 10 columns</p>\n",
       "</div>"
      ],
      "text/plain": [
       "        code          province        date  avg_temp  min_temp  max_temp  \\\n",
       "0      10000             Seoul  2016-01-01       1.2      -3.3       4.0   \n",
       "1      11000             Busan  2016-01-01       5.3       1.1      10.9   \n",
       "2      12000             Daegu  2016-01-01       1.7      -4.0       8.0   \n",
       "3      13000           Gwangju  2016-01-01       3.2      -1.5       8.1   \n",
       "4      14000           Incheon  2016-01-01       3.1      -0.4       5.7   \n",
       "...      ...               ...         ...       ...       ...       ...   \n",
       "26266  50000      Jeollabuk-do  2020-06-29      22.0      19.7      26.5   \n",
       "26267  51000      Jeollanam-do  2020-06-29      21.9      20.0      24.0   \n",
       "26268  60000  Gyeongsangbuk-do  2020-06-29      20.4      17.4      24.5   \n",
       "26269  61000  Gyeongsangnam-do  2020-06-29      21.9      18.8      25.5   \n",
       "26270  70000           Jeju-do  2020-06-29      23.2      19.1      27.6   \n",
       "\n",
       "       precipitation  max_wind_speed  most_wind_direction  \\\n",
       "0                0.0             3.5                 90.0   \n",
       "1                0.0             7.4                340.0   \n",
       "2                0.0             3.7                270.0   \n",
       "3                0.0             2.7                230.0   \n",
       "4                0.0             5.3                180.0   \n",
       "...              ...             ...                  ...   \n",
       "26266           27.6             4.4                 90.0   \n",
       "26267           80.5            16.8                 90.0   \n",
       "26268           43.9             4.5                160.0   \n",
       "26269           98.9             5.8                160.0   \n",
       "26270           25.1            12.8                270.0   \n",
       "\n",
       "       avg_relative_humidity  \n",
       "0                       73.0  \n",
       "1                       52.1  \n",
       "2                       70.5  \n",
       "3                       73.1  \n",
       "4                       83.9  \n",
       "...                      ...  \n",
       "26266                   85.1  \n",
       "26267                   97.9  \n",
       "26268                   90.9  \n",
       "26269                   85.0  \n",
       "26270                   87.4  \n",
       "\n",
       "[26224 rows x 10 columns]"
      ]
     },
     "execution_count": 95,
     "metadata": {},
     "output_type": "execute_result"
    }
   ],
   "source": [
    "weather_csv = weather_csv.dropna()\n",
    "weather_csv"
   ]
  },
  {
   "cell_type": "code",
   "execution_count": 96,
   "metadata": {},
   "outputs": [
    {
     "name": "stdout",
     "output_type": "stream",
     "text": [
      "Answer to Q28 :  26224\n"
     ]
    }
   ],
   "source": [
    "print(\"Answer to Q28 : \", len(weather_csv))"
   ]
  },
  {
   "cell_type": "code",
   "execution_count": 97,
   "metadata": {},
   "outputs": [],
   "source": [
    "                                                #29"
   ]
  },
  {
   "cell_type": "code",
   "execution_count": 98,
   "metadata": {},
   "outputs": [
    {
     "data": {
      "text/plain": [
       "array(['Seoul', 'Busan', 'Daegu', 'Gwangju', 'Incheon', 'Daejeon',\n",
       "       'Ulsan', 'Gyeonggi-do', 'Gangwon-do', 'Chungcheongbuk-do',\n",
       "       'Chungcheongnam-do', 'Jeollabuk-do', 'Jeollanam-do',\n",
       "       'Gyeongsangbuk-do', 'Gyeongsangnam-do', 'Jeju-do',\n",
       "       'Chunghceongbuk-do'], dtype=object)"
      ]
     },
     "execution_count": 98,
     "metadata": {},
     "output_type": "execute_result"
    }
   ],
   "source": [
    "weather_wrong = weather_csv['province'].unique()\n",
    "weather_wrong"
   ]
  },
  {
   "cell_type": "code",
   "execution_count": 99,
   "metadata": {},
   "outputs": [
    {
     "data": {
      "text/plain": [
       "17"
      ]
     },
     "execution_count": 99,
     "metadata": {},
     "output_type": "execute_result"
    }
   ],
   "source": [
    "weather_correct = weather_csv['province'].nunique()\n",
    "weather_correct"
   ]
  },
  {
   "cell_type": "code",
   "execution_count": 100,
   "metadata": {},
   "outputs": [
    {
     "name": "stdout",
     "output_type": "stream",
     "text": [
      "Answer to Q29 :  16\n"
     ]
    }
   ],
   "source": [
    "print(\"Answer to Q29 : \", weather_correct-1)"
   ]
  },
  {
   "cell_type": "code",
   "execution_count": 101,
   "metadata": {},
   "outputs": [],
   "source": [
    "                                                #30"
   ]
  },
  {
   "cell_type": "code",
   "execution_count": 102,
   "metadata": {},
   "outputs": [
    {
     "data": {
      "text/plain": [
       "33.9"
      ]
     },
     "execution_count": 102,
     "metadata": {},
     "output_type": "execute_result"
    }
   ],
   "source": [
    "weather_max_of_avg_temp = weather_csv['avg_temp'].max()\n",
    "weather_max_of_avg_temp"
   ]
  },
  {
   "cell_type": "code",
   "execution_count": 103,
   "metadata": {},
   "outputs": [
    {
     "name": "stdout",
     "output_type": "stream",
     "text": [
      "Answer to Q30 :  33.9\n"
     ]
    }
   ],
   "source": [
    "print(\"Answer to Q30 : \", weather_max_of_avg_temp)"
   ]
  },
  {
   "cell_type": "code",
   "execution_count": 104,
   "metadata": {},
   "outputs": [],
   "source": [
    "                                                #31"
   ]
  },
  {
   "cell_type": "code",
   "execution_count": 105,
   "metadata": {},
   "outputs": [
    {
     "data": {
      "text/plain": [
       "10.4"
      ]
     },
     "execution_count": 105,
     "metadata": {},
     "output_type": "execute_result"
    }
   ],
   "source": [
    "weather_min_of_rel_humid = weather_csv['avg_relative_humidity'].min()\n",
    "weather_min_of_rel_humid"
   ]
  },
  {
   "cell_type": "code",
   "execution_count": 106,
   "metadata": {},
   "outputs": [
    {
     "name": "stdout",
     "output_type": "stream",
     "text": [
      "Answer to Q31 :  10.4\n"
     ]
    }
   ],
   "source": [
    "print(\"Answer to Q31 : \", weather_min_of_rel_humid)"
   ]
  },
  {
   "cell_type": "markdown",
   "metadata": {
    "colab_type": "text",
    "id": "CY_sQwg9-H2T"
   },
   "source": [
    "### Task 6: Patient"
   ]
  },
  {
   "cell_type": "code",
   "execution_count": 107,
   "metadata": {
    "colab": {},
    "colab_type": "code",
    "id": "lCAS9GuI-H2U"
   },
   "outputs": [],
   "source": [
    "# load/read the data\n",
    "# create appropriate plots"
   ]
  },
  {
   "cell_type": "code",
   "execution_count": 108,
   "metadata": {
    "scrolled": false
   },
   "outputs": [
    {
     "name": "stdout",
     "output_type": "stream",
     "text": [
      "./corona_dataset\\Case.csv\n",
      "./corona_dataset\\PatientInfo.csv\n",
      "./corona_dataset\\Policy.csv\n",
      "./corona_dataset\\Region.csv\n",
      "./corona_dataset\\SearchTrend.csv\n",
      "./corona_dataset\\SeoulFloating.csv\n",
      "./corona_dataset\\Time.csv\n",
      "./corona_dataset\\TimeAge.csv\n",
      "./corona_dataset\\TimeGender.csv\n",
      "./corona_dataset\\TimeProvince.csv\n",
      "./corona_dataset\\Weather.csv\n"
     ]
    }
   ],
   "source": [
    "for path in eda_paths:\n",
    "    print(path)"
   ]
  },
  {
   "cell_type": "code",
   "execution_count": 109,
   "metadata": {
    "scrolled": true
   },
   "outputs": [
    {
     "data": {
      "text/html": [
       "<div>\n",
       "<style scoped>\n",
       "    .dataframe tbody tr th:only-of-type {\n",
       "        vertical-align: middle;\n",
       "    }\n",
       "\n",
       "    .dataframe tbody tr th {\n",
       "        vertical-align: top;\n",
       "    }\n",
       "\n",
       "    .dataframe thead th {\n",
       "        text-align: right;\n",
       "    }\n",
       "</style>\n",
       "<table border=\"1\" class=\"dataframe\">\n",
       "  <thead>\n",
       "    <tr style=\"text-align: right;\">\n",
       "      <th></th>\n",
       "      <th>patient_id</th>\n",
       "      <th>sex</th>\n",
       "      <th>age</th>\n",
       "      <th>country</th>\n",
       "      <th>province</th>\n",
       "      <th>city</th>\n",
       "      <th>infection_case</th>\n",
       "      <th>infected_by</th>\n",
       "      <th>contact_number</th>\n",
       "      <th>symptom_onset_date</th>\n",
       "      <th>confirmed_date</th>\n",
       "      <th>released_date</th>\n",
       "      <th>deceased_date</th>\n",
       "      <th>state</th>\n",
       "    </tr>\n",
       "  </thead>\n",
       "  <tbody>\n",
       "    <tr>\n",
       "      <td>0</td>\n",
       "      <td>1000000001</td>\n",
       "      <td>male</td>\n",
       "      <td>50s</td>\n",
       "      <td>Korea</td>\n",
       "      <td>Seoul</td>\n",
       "      <td>Gangseo-gu</td>\n",
       "      <td>overseas inflow</td>\n",
       "      <td>NaN</td>\n",
       "      <td>75</td>\n",
       "      <td>2020-01-22</td>\n",
       "      <td>2020-01-23</td>\n",
       "      <td>2020-02-05</td>\n",
       "      <td>NaN</td>\n",
       "      <td>released</td>\n",
       "    </tr>\n",
       "    <tr>\n",
       "      <td>1</td>\n",
       "      <td>1000000002</td>\n",
       "      <td>male</td>\n",
       "      <td>30s</td>\n",
       "      <td>Korea</td>\n",
       "      <td>Seoul</td>\n",
       "      <td>Jungnang-gu</td>\n",
       "      <td>overseas inflow</td>\n",
       "      <td>NaN</td>\n",
       "      <td>31</td>\n",
       "      <td>NaN</td>\n",
       "      <td>2020-01-30</td>\n",
       "      <td>2020-03-02</td>\n",
       "      <td>NaN</td>\n",
       "      <td>released</td>\n",
       "    </tr>\n",
       "    <tr>\n",
       "      <td>2</td>\n",
       "      <td>1000000003</td>\n",
       "      <td>male</td>\n",
       "      <td>50s</td>\n",
       "      <td>Korea</td>\n",
       "      <td>Seoul</td>\n",
       "      <td>Jongno-gu</td>\n",
       "      <td>contact with patient</td>\n",
       "      <td>2002000001</td>\n",
       "      <td>17</td>\n",
       "      <td>NaN</td>\n",
       "      <td>2020-01-30</td>\n",
       "      <td>2020-02-19</td>\n",
       "      <td>NaN</td>\n",
       "      <td>released</td>\n",
       "    </tr>\n",
       "    <tr>\n",
       "      <td>3</td>\n",
       "      <td>1000000004</td>\n",
       "      <td>male</td>\n",
       "      <td>20s</td>\n",
       "      <td>Korea</td>\n",
       "      <td>Seoul</td>\n",
       "      <td>Mapo-gu</td>\n",
       "      <td>overseas inflow</td>\n",
       "      <td>NaN</td>\n",
       "      <td>9</td>\n",
       "      <td>2020-01-26</td>\n",
       "      <td>2020-01-30</td>\n",
       "      <td>2020-02-15</td>\n",
       "      <td>NaN</td>\n",
       "      <td>released</td>\n",
       "    </tr>\n",
       "    <tr>\n",
       "      <td>4</td>\n",
       "      <td>1000000005</td>\n",
       "      <td>female</td>\n",
       "      <td>20s</td>\n",
       "      <td>Korea</td>\n",
       "      <td>Seoul</td>\n",
       "      <td>Seongbuk-gu</td>\n",
       "      <td>contact with patient</td>\n",
       "      <td>1000000002</td>\n",
       "      <td>2</td>\n",
       "      <td>NaN</td>\n",
       "      <td>2020-01-31</td>\n",
       "      <td>2020-02-24</td>\n",
       "      <td>NaN</td>\n",
       "      <td>released</td>\n",
       "    </tr>\n",
       "    <tr>\n",
       "      <td>...</td>\n",
       "      <td>...</td>\n",
       "      <td>...</td>\n",
       "      <td>...</td>\n",
       "      <td>...</td>\n",
       "      <td>...</td>\n",
       "      <td>...</td>\n",
       "      <td>...</td>\n",
       "      <td>...</td>\n",
       "      <td>...</td>\n",
       "      <td>...</td>\n",
       "      <td>...</td>\n",
       "      <td>...</td>\n",
       "      <td>...</td>\n",
       "      <td>...</td>\n",
       "    </tr>\n",
       "    <tr>\n",
       "      <td>5160</td>\n",
       "      <td>7000000015</td>\n",
       "      <td>female</td>\n",
       "      <td>30s</td>\n",
       "      <td>Korea</td>\n",
       "      <td>Jeju-do</td>\n",
       "      <td>Jeju-do</td>\n",
       "      <td>overseas inflow</td>\n",
       "      <td>NaN</td>\n",
       "      <td>25</td>\n",
       "      <td>NaN</td>\n",
       "      <td>2020-05-30</td>\n",
       "      <td>2020-06-13</td>\n",
       "      <td>NaN</td>\n",
       "      <td>released</td>\n",
       "    </tr>\n",
       "    <tr>\n",
       "      <td>5161</td>\n",
       "      <td>7000000016</td>\n",
       "      <td>NaN</td>\n",
       "      <td>NaN</td>\n",
       "      <td>Korea</td>\n",
       "      <td>Jeju-do</td>\n",
       "      <td>Jeju-do</td>\n",
       "      <td>overseas inflow</td>\n",
       "      <td>NaN</td>\n",
       "      <td>NaN</td>\n",
       "      <td>NaN</td>\n",
       "      <td>2020-06-16</td>\n",
       "      <td>2020-06-24</td>\n",
       "      <td>NaN</td>\n",
       "      <td>released</td>\n",
       "    </tr>\n",
       "    <tr>\n",
       "      <td>5162</td>\n",
       "      <td>7000000017</td>\n",
       "      <td>NaN</td>\n",
       "      <td>NaN</td>\n",
       "      <td>Bangladesh</td>\n",
       "      <td>Jeju-do</td>\n",
       "      <td>Jeju-do</td>\n",
       "      <td>overseas inflow</td>\n",
       "      <td>NaN</td>\n",
       "      <td>72</td>\n",
       "      <td>NaN</td>\n",
       "      <td>2020-06-18</td>\n",
       "      <td>NaN</td>\n",
       "      <td>NaN</td>\n",
       "      <td>isolated</td>\n",
       "    </tr>\n",
       "    <tr>\n",
       "      <td>5163</td>\n",
       "      <td>7000000018</td>\n",
       "      <td>NaN</td>\n",
       "      <td>NaN</td>\n",
       "      <td>Bangladesh</td>\n",
       "      <td>Jeju-do</td>\n",
       "      <td>Jeju-do</td>\n",
       "      <td>overseas inflow</td>\n",
       "      <td>NaN</td>\n",
       "      <td>NaN</td>\n",
       "      <td>NaN</td>\n",
       "      <td>2020-06-18</td>\n",
       "      <td>NaN</td>\n",
       "      <td>NaN</td>\n",
       "      <td>isolated</td>\n",
       "    </tr>\n",
       "    <tr>\n",
       "      <td>5164</td>\n",
       "      <td>7000000019</td>\n",
       "      <td>NaN</td>\n",
       "      <td>NaN</td>\n",
       "      <td>Bangladesh</td>\n",
       "      <td>Jeju-do</td>\n",
       "      <td>Jeju-do</td>\n",
       "      <td>overseas inflow</td>\n",
       "      <td>NaN</td>\n",
       "      <td>NaN</td>\n",
       "      <td>NaN</td>\n",
       "      <td>2020-06-18</td>\n",
       "      <td>NaN</td>\n",
       "      <td>NaN</td>\n",
       "      <td>isolated</td>\n",
       "    </tr>\n",
       "  </tbody>\n",
       "</table>\n",
       "<p>5165 rows × 14 columns</p>\n",
       "</div>"
      ],
      "text/plain": [
       "      patient_id     sex  age     country province         city  \\\n",
       "0     1000000001    male  50s       Korea    Seoul   Gangseo-gu   \n",
       "1     1000000002    male  30s       Korea    Seoul  Jungnang-gu   \n",
       "2     1000000003    male  50s       Korea    Seoul    Jongno-gu   \n",
       "3     1000000004    male  20s       Korea    Seoul      Mapo-gu   \n",
       "4     1000000005  female  20s       Korea    Seoul  Seongbuk-gu   \n",
       "...          ...     ...  ...         ...      ...          ...   \n",
       "5160  7000000015  female  30s       Korea  Jeju-do      Jeju-do   \n",
       "5161  7000000016     NaN  NaN       Korea  Jeju-do      Jeju-do   \n",
       "5162  7000000017     NaN  NaN  Bangladesh  Jeju-do      Jeju-do   \n",
       "5163  7000000018     NaN  NaN  Bangladesh  Jeju-do      Jeju-do   \n",
       "5164  7000000019     NaN  NaN  Bangladesh  Jeju-do      Jeju-do   \n",
       "\n",
       "            infection_case infected_by contact_number symptom_onset_date  \\\n",
       "0          overseas inflow         NaN             75         2020-01-22   \n",
       "1          overseas inflow         NaN             31                NaN   \n",
       "2     contact with patient  2002000001             17                NaN   \n",
       "3          overseas inflow         NaN              9         2020-01-26   \n",
       "4     contact with patient  1000000002              2                NaN   \n",
       "...                    ...         ...            ...                ...   \n",
       "5160       overseas inflow         NaN             25                NaN   \n",
       "5161       overseas inflow         NaN            NaN                NaN   \n",
       "5162       overseas inflow         NaN             72                NaN   \n",
       "5163       overseas inflow         NaN            NaN                NaN   \n",
       "5164       overseas inflow         NaN            NaN                NaN   \n",
       "\n",
       "     confirmed_date released_date deceased_date     state  \n",
       "0        2020-01-23    2020-02-05           NaN  released  \n",
       "1        2020-01-30    2020-03-02           NaN  released  \n",
       "2        2020-01-30    2020-02-19           NaN  released  \n",
       "3        2020-01-30    2020-02-15           NaN  released  \n",
       "4        2020-01-31    2020-02-24           NaN  released  \n",
       "...             ...           ...           ...       ...  \n",
       "5160     2020-05-30    2020-06-13           NaN  released  \n",
       "5161     2020-06-16    2020-06-24           NaN  released  \n",
       "5162     2020-06-18           NaN           NaN  isolated  \n",
       "5163     2020-06-18           NaN           NaN  isolated  \n",
       "5164     2020-06-18           NaN           NaN  isolated  \n",
       "\n",
       "[5165 rows x 14 columns]"
      ]
     },
     "execution_count": 109,
     "metadata": {},
     "output_type": "execute_result"
    }
   ],
   "source": [
    "patient_csv = pd.read_csv(eda_paths[1]) # read the data\n",
    "patient_csv"
   ]
  },
  {
   "cell_type": "code",
   "execution_count": 110,
   "metadata": {},
   "outputs": [],
   "source": [
    "                                                #32"
   ]
  },
  {
   "cell_type": "code",
   "execution_count": 111,
   "metadata": {},
   "outputs": [
    {
     "name": "stdout",
     "output_type": "stream",
     "text": [
      "Answer to Q32 :  95\n"
     ]
    }
   ],
   "source": [
    "patient_badguy = patient_csv['contact_number'].dropna().max()\n",
    "print(\"Answer to Q32 : \", patient_badguy)"
   ]
  },
  {
   "cell_type": "code",
   "execution_count": 112,
   "metadata": {},
   "outputs": [],
   "source": [
    "                                                #33"
   ]
  },
  {
   "cell_type": "code",
   "execution_count": 113,
   "metadata": {},
   "outputs": [
    {
     "name": "stdout",
     "output_type": "stream",
     "text": [
      "Answer to Q33 :  42\n"
     ]
    }
   ],
   "source": [
    "patient_foreign = patient_csv[patient_csv['country'] != 'Korea']\n",
    "patient_foreign = patient_foreign['country'].count()\n",
    "print(\"Answer to Q33 : \", patient_foreign)"
   ]
  },
  {
   "cell_type": "markdown",
   "metadata": {
    "colab_type": "text",
    "id": "flR1zVC--H2W"
   },
   "source": [
    "### Task 7: Search"
   ]
  },
  {
   "cell_type": "code",
   "execution_count": 114,
   "metadata": {
    "colab": {},
    "colab_type": "code",
    "id": "740dYwpk-H2W"
   },
   "outputs": [],
   "source": [
    "# load/read the data\n",
    "# create appropriate plots"
   ]
  },
  {
   "cell_type": "code",
   "execution_count": 115,
   "metadata": {
    "scrolled": false
   },
   "outputs": [
    {
     "name": "stdout",
     "output_type": "stream",
     "text": [
      "./corona_dataset\\Case.csv\n",
      "./corona_dataset\\PatientInfo.csv\n",
      "./corona_dataset\\Policy.csv\n",
      "./corona_dataset\\Region.csv\n",
      "./corona_dataset\\SearchTrend.csv\n",
      "./corona_dataset\\SeoulFloating.csv\n",
      "./corona_dataset\\Time.csv\n",
      "./corona_dataset\\TimeAge.csv\n",
      "./corona_dataset\\TimeGender.csv\n",
      "./corona_dataset\\TimeProvince.csv\n",
      "./corona_dataset\\Weather.csv\n"
     ]
    }
   ],
   "source": [
    "for path in eda_paths:\n",
    "    print(path)"
   ]
  },
  {
   "cell_type": "code",
   "execution_count": 116,
   "metadata": {
    "scrolled": false
   },
   "outputs": [
    {
     "data": {
      "text/html": [
       "<div>\n",
       "<style scoped>\n",
       "    .dataframe tbody tr th:only-of-type {\n",
       "        vertical-align: middle;\n",
       "    }\n",
       "\n",
       "    .dataframe tbody tr th {\n",
       "        vertical-align: top;\n",
       "    }\n",
       "\n",
       "    .dataframe thead th {\n",
       "        text-align: right;\n",
       "    }\n",
       "</style>\n",
       "<table border=\"1\" class=\"dataframe\">\n",
       "  <thead>\n",
       "    <tr style=\"text-align: right;\">\n",
       "      <th></th>\n",
       "      <th>date</th>\n",
       "      <th>cold</th>\n",
       "      <th>flu</th>\n",
       "      <th>pneumonia</th>\n",
       "      <th>coronavirus</th>\n",
       "    </tr>\n",
       "  </thead>\n",
       "  <tbody>\n",
       "    <tr>\n",
       "      <td>0</td>\n",
       "      <td>2016-01-01</td>\n",
       "      <td>0.11663</td>\n",
       "      <td>0.05590</td>\n",
       "      <td>0.15726</td>\n",
       "      <td>0.00736</td>\n",
       "    </tr>\n",
       "    <tr>\n",
       "      <td>1</td>\n",
       "      <td>2016-01-02</td>\n",
       "      <td>0.13372</td>\n",
       "      <td>0.17135</td>\n",
       "      <td>0.20826</td>\n",
       "      <td>0.00890</td>\n",
       "    </tr>\n",
       "    <tr>\n",
       "      <td>2</td>\n",
       "      <td>2016-01-03</td>\n",
       "      <td>0.14917</td>\n",
       "      <td>0.22317</td>\n",
       "      <td>0.19326</td>\n",
       "      <td>0.00845</td>\n",
       "    </tr>\n",
       "    <tr>\n",
       "      <td>3</td>\n",
       "      <td>2016-01-04</td>\n",
       "      <td>0.17463</td>\n",
       "      <td>0.18626</td>\n",
       "      <td>0.29008</td>\n",
       "      <td>0.01145</td>\n",
       "    </tr>\n",
       "    <tr>\n",
       "      <td>4</td>\n",
       "      <td>2016-01-05</td>\n",
       "      <td>0.17226</td>\n",
       "      <td>0.15072</td>\n",
       "      <td>0.24562</td>\n",
       "      <td>0.01381</td>\n",
       "    </tr>\n",
       "    <tr>\n",
       "      <td>...</td>\n",
       "      <td>...</td>\n",
       "      <td>...</td>\n",
       "      <td>...</td>\n",
       "      <td>...</td>\n",
       "      <td>...</td>\n",
       "    </tr>\n",
       "    <tr>\n",
       "      <td>1637</td>\n",
       "      <td>2020-06-25</td>\n",
       "      <td>0.12072</td>\n",
       "      <td>0.04190</td>\n",
       "      <td>0.11936</td>\n",
       "      <td>2.16993</td>\n",
       "    </tr>\n",
       "    <tr>\n",
       "      <td>1638</td>\n",
       "      <td>2020-06-26</td>\n",
       "      <td>0.11381</td>\n",
       "      <td>0.03027</td>\n",
       "      <td>0.11317</td>\n",
       "      <td>2.15139</td>\n",
       "    </tr>\n",
       "    <tr>\n",
       "      <td>1639</td>\n",
       "      <td>2020-06-27</td>\n",
       "      <td>0.10554</td>\n",
       "      <td>0.02136</td>\n",
       "      <td>0.08354</td>\n",
       "      <td>1.96848</td>\n",
       "    </tr>\n",
       "    <tr>\n",
       "      <td>1640</td>\n",
       "      <td>2020-06-28</td>\n",
       "      <td>0.12563</td>\n",
       "      <td>0.02872</td>\n",
       "      <td>0.08072</td>\n",
       "      <td>2.19720</td>\n",
       "    </tr>\n",
       "    <tr>\n",
       "      <td>1641</td>\n",
       "      <td>2020-06-29</td>\n",
       "      <td>0.14263</td>\n",
       "      <td>0.04308</td>\n",
       "      <td>0.11254</td>\n",
       "      <td>2.41501</td>\n",
       "    </tr>\n",
       "  </tbody>\n",
       "</table>\n",
       "<p>1642 rows × 5 columns</p>\n",
       "</div>"
      ],
      "text/plain": [
       "            date     cold      flu  pneumonia  coronavirus\n",
       "0     2016-01-01  0.11663  0.05590    0.15726      0.00736\n",
       "1     2016-01-02  0.13372  0.17135    0.20826      0.00890\n",
       "2     2016-01-03  0.14917  0.22317    0.19326      0.00845\n",
       "3     2016-01-04  0.17463  0.18626    0.29008      0.01145\n",
       "4     2016-01-05  0.17226  0.15072    0.24562      0.01381\n",
       "...          ...      ...      ...        ...          ...\n",
       "1637  2020-06-25  0.12072  0.04190    0.11936      2.16993\n",
       "1638  2020-06-26  0.11381  0.03027    0.11317      2.15139\n",
       "1639  2020-06-27  0.10554  0.02136    0.08354      1.96848\n",
       "1640  2020-06-28  0.12563  0.02872    0.08072      2.19720\n",
       "1641  2020-06-29  0.14263  0.04308    0.11254      2.41501\n",
       "\n",
       "[1642 rows x 5 columns]"
      ]
     },
     "execution_count": 116,
     "metadata": {},
     "output_type": "execute_result"
    }
   ],
   "source": [
    "search_csv = pd.read_csv(eda_paths[4]) # read the data\n",
    "search_csv"
   ]
  },
  {
   "cell_type": "code",
   "execution_count": 117,
   "metadata": {},
   "outputs": [],
   "source": [
    "                                                #34"
   ]
  },
  {
   "cell_type": "code",
   "execution_count": 118,
   "metadata": {},
   "outputs": [
    {
     "name": "stdout",
     "output_type": "stream",
     "text": [
      "Answer to Q34 :  4\n"
     ]
    }
   ],
   "source": [
    "search_lot = search_csv.shape[1]-1\n",
    "print(\"Answer to Q34 : \", search_lot)"
   ]
  },
  {
   "cell_type": "code",
   "execution_count": 119,
   "metadata": {},
   "outputs": [],
   "source": [
    "                                                #35"
   ]
  },
  {
   "cell_type": "code",
   "execution_count": 120,
   "metadata": {},
   "outputs": [
    {
     "name": "stdout",
     "output_type": "stream",
     "text": [
      "Answer to Q35 :  1642\n"
     ]
    }
   ],
   "source": [
    "search_days = search_csv['date'].nunique()\n",
    "print(\"Answer to Q35 : \", search_days)"
   ]
  },
  {
   "cell_type": "code",
   "execution_count": 121,
   "metadata": {},
   "outputs": [],
   "source": [
    "                                                #36"
   ]
  },
  {
   "cell_type": "code",
   "execution_count": 122,
   "metadata": {
    "scrolled": true
   },
   "outputs": [
    {
     "data": {
      "text/html": [
       "<div>\n",
       "<style scoped>\n",
       "    .dataframe tbody tr th:only-of-type {\n",
       "        vertical-align: middle;\n",
       "    }\n",
       "\n",
       "    .dataframe tbody tr th {\n",
       "        vertical-align: top;\n",
       "    }\n",
       "\n",
       "    .dataframe thead th {\n",
       "        text-align: right;\n",
       "    }\n",
       "</style>\n",
       "<table border=\"1\" class=\"dataframe\">\n",
       "  <thead>\n",
       "    <tr style=\"text-align: right;\">\n",
       "      <th></th>\n",
       "      <th>date</th>\n",
       "      <th>coronavirus</th>\n",
       "    </tr>\n",
       "  </thead>\n",
       "  <tbody>\n",
       "    <tr>\n",
       "      <td>0</td>\n",
       "      <td>2016-01-01</td>\n",
       "      <td>0.00736</td>\n",
       "    </tr>\n",
       "    <tr>\n",
       "      <td>1</td>\n",
       "      <td>2016-01-02</td>\n",
       "      <td>0.00890</td>\n",
       "    </tr>\n",
       "    <tr>\n",
       "      <td>2</td>\n",
       "      <td>2016-01-03</td>\n",
       "      <td>0.00845</td>\n",
       "    </tr>\n",
       "    <tr>\n",
       "      <td>3</td>\n",
       "      <td>2016-01-04</td>\n",
       "      <td>0.01145</td>\n",
       "    </tr>\n",
       "    <tr>\n",
       "      <td>4</td>\n",
       "      <td>2016-01-05</td>\n",
       "      <td>0.01381</td>\n",
       "    </tr>\n",
       "    <tr>\n",
       "      <td>...</td>\n",
       "      <td>...</td>\n",
       "      <td>...</td>\n",
       "    </tr>\n",
       "    <tr>\n",
       "      <td>1637</td>\n",
       "      <td>2020-06-25</td>\n",
       "      <td>2.16993</td>\n",
       "    </tr>\n",
       "    <tr>\n",
       "      <td>1638</td>\n",
       "      <td>2020-06-26</td>\n",
       "      <td>2.15139</td>\n",
       "    </tr>\n",
       "    <tr>\n",
       "      <td>1639</td>\n",
       "      <td>2020-06-27</td>\n",
       "      <td>1.96848</td>\n",
       "    </tr>\n",
       "    <tr>\n",
       "      <td>1640</td>\n",
       "      <td>2020-06-28</td>\n",
       "      <td>2.19720</td>\n",
       "    </tr>\n",
       "    <tr>\n",
       "      <td>1641</td>\n",
       "      <td>2020-06-29</td>\n",
       "      <td>2.41501</td>\n",
       "    </tr>\n",
       "  </tbody>\n",
       "</table>\n",
       "<p>1642 rows × 2 columns</p>\n",
       "</div>"
      ],
      "text/plain": [
       "            date  coronavirus\n",
       "0     2016-01-01      0.00736\n",
       "1     2016-01-02      0.00890\n",
       "2     2016-01-03      0.00845\n",
       "3     2016-01-04      0.01145\n",
       "4     2016-01-05      0.01381\n",
       "...          ...          ...\n",
       "1637  2020-06-25      2.16993\n",
       "1638  2020-06-26      2.15139\n",
       "1639  2020-06-27      1.96848\n",
       "1640  2020-06-28      2.19720\n",
       "1641  2020-06-29      2.41501\n",
       "\n",
       "[1642 rows x 2 columns]"
      ]
     },
     "execution_count": 122,
     "metadata": {},
     "output_type": "execute_result"
    }
   ],
   "source": [
    "df1 = search_csv.drop(columns=['cold','flu','pneumonia'])\n",
    "df1"
   ]
  },
  {
   "cell_type": "code",
   "execution_count": 123,
   "metadata": {},
   "outputs": [],
   "source": [
    "search_csv['date'] = pd.to_datetime(search_csv['date'])"
   ]
  },
  {
   "cell_type": "code",
   "execution_count": 124,
   "metadata": {},
   "outputs": [],
   "source": [
    "time_csv = pd.read_csv(eda_paths[6])\n",
    "time_csv['date'] = pd.to_datetime(time_csv['date'])"
   ]
  },
  {
   "cell_type": "code",
   "execution_count": 125,
   "metadata": {},
   "outputs": [
    {
     "name": "stdout",
     "output_type": "stream",
     "text": [
      "0   2020-01-20\n",
      "1   2020-01-21\n",
      "2   2020-01-22\n",
      "3   2020-01-23\n",
      "Name: date, dtype: datetime64[ns]\n"
     ]
    },
    {
     "data": {
      "text/plain": [
       "Timestamp('2020-01-20 00:00:00')"
      ]
     },
     "execution_count": 125,
     "metadata": {},
     "output_type": "execute_result"
    }
   ],
   "source": [
    "date1 = time_csv[time_csv['confirmed']==1][\"date\"]\n",
    "print(date1)\n",
    "date1[0]"
   ]
  },
  {
   "cell_type": "code",
   "execution_count": 126,
   "metadata": {},
   "outputs": [
    {
     "name": "stdout",
     "output_type": "stream",
     "text": [
      "1483   2020-01-23\n",
      "Name: date, dtype: datetime64[ns]\n"
     ]
    }
   ],
   "source": [
    "df3 = search_csv[search_csv['coronavirus']==100][\"date\"]\n",
    "print(df3)"
   ]
  },
  {
   "cell_type": "code",
   "execution_count": 127,
   "metadata": {},
   "outputs": [
    {
     "name": "stdout",
     "output_type": "stream",
     "text": [
      "1483   3 days\n",
      "Name: date, dtype: timedelta64[ns]\n"
     ]
    }
   ],
   "source": [
    "df4 = df3-date1[0]\n",
    "print(df4)"
   ]
  },
  {
   "cell_type": "code",
   "execution_count": 128,
   "metadata": {},
   "outputs": [
    {
     "name": "stdout",
     "output_type": "stream",
     "text": [
      "Answers to Q36 :  3\n"
     ]
    }
   ],
   "source": [
    "print(\"Answers to Q36 : \", 3)"
   ]
  },
  {
   "cell_type": "markdown",
   "metadata": {
    "colab_type": "text",
    "id": "dQVzH6R5-H2Y"
   },
   "source": [
    "### Task 8: Test"
   ]
  },
  {
   "cell_type": "code",
   "execution_count": 129,
   "metadata": {
    "colab": {},
    "colab_type": "code",
    "id": "ijqVH08k-H2Y"
   },
   "outputs": [],
   "source": [
    "# load/read the data\n",
    "# create appropriate plots"
   ]
  },
  {
   "cell_type": "code",
   "execution_count": 130,
   "metadata": {
    "scrolled": false
   },
   "outputs": [
    {
     "name": "stdout",
     "output_type": "stream",
     "text": [
      "./corona_dataset\\Case.csv\n",
      "./corona_dataset\\PatientInfo.csv\n",
      "./corona_dataset\\Policy.csv\n",
      "./corona_dataset\\Region.csv\n",
      "./corona_dataset\\SearchTrend.csv\n",
      "./corona_dataset\\SeoulFloating.csv\n",
      "./corona_dataset\\Time.csv\n",
      "./corona_dataset\\TimeAge.csv\n",
      "./corona_dataset\\TimeGender.csv\n",
      "./corona_dataset\\TimeProvince.csv\n",
      "./corona_dataset\\Weather.csv\n"
     ]
    }
   ],
   "source": [
    "for path in eda_paths:\n",
    "    print(path)"
   ]
  },
  {
   "cell_type": "code",
   "execution_count": 131,
   "metadata": {
    "scrolled": true
   },
   "outputs": [
    {
     "data": {
      "text/html": [
       "<div>\n",
       "<style scoped>\n",
       "    .dataframe tbody tr th:only-of-type {\n",
       "        vertical-align: middle;\n",
       "    }\n",
       "\n",
       "    .dataframe tbody tr th {\n",
       "        vertical-align: top;\n",
       "    }\n",
       "\n",
       "    .dataframe thead th {\n",
       "        text-align: right;\n",
       "    }\n",
       "</style>\n",
       "<table border=\"1\" class=\"dataframe\">\n",
       "  <thead>\n",
       "    <tr style=\"text-align: right;\">\n",
       "      <th></th>\n",
       "      <th>date</th>\n",
       "      <th>time</th>\n",
       "      <th>test</th>\n",
       "      <th>negative</th>\n",
       "      <th>confirmed</th>\n",
       "      <th>released</th>\n",
       "      <th>deceased</th>\n",
       "    </tr>\n",
       "  </thead>\n",
       "  <tbody>\n",
       "    <tr>\n",
       "      <td>0</td>\n",
       "      <td>2020-01-20</td>\n",
       "      <td>16</td>\n",
       "      <td>1</td>\n",
       "      <td>0</td>\n",
       "      <td>1</td>\n",
       "      <td>0</td>\n",
       "      <td>0</td>\n",
       "    </tr>\n",
       "    <tr>\n",
       "      <td>1</td>\n",
       "      <td>2020-01-21</td>\n",
       "      <td>16</td>\n",
       "      <td>1</td>\n",
       "      <td>0</td>\n",
       "      <td>1</td>\n",
       "      <td>0</td>\n",
       "      <td>0</td>\n",
       "    </tr>\n",
       "    <tr>\n",
       "      <td>2</td>\n",
       "      <td>2020-01-22</td>\n",
       "      <td>16</td>\n",
       "      <td>4</td>\n",
       "      <td>3</td>\n",
       "      <td>1</td>\n",
       "      <td>0</td>\n",
       "      <td>0</td>\n",
       "    </tr>\n",
       "    <tr>\n",
       "      <td>3</td>\n",
       "      <td>2020-01-23</td>\n",
       "      <td>16</td>\n",
       "      <td>22</td>\n",
       "      <td>21</td>\n",
       "      <td>1</td>\n",
       "      <td>0</td>\n",
       "      <td>0</td>\n",
       "    </tr>\n",
       "    <tr>\n",
       "      <td>4</td>\n",
       "      <td>2020-01-24</td>\n",
       "      <td>16</td>\n",
       "      <td>27</td>\n",
       "      <td>25</td>\n",
       "      <td>2</td>\n",
       "      <td>0</td>\n",
       "      <td>0</td>\n",
       "    </tr>\n",
       "    <tr>\n",
       "      <td>...</td>\n",
       "      <td>...</td>\n",
       "      <td>...</td>\n",
       "      <td>...</td>\n",
       "      <td>...</td>\n",
       "      <td>...</td>\n",
       "      <td>...</td>\n",
       "      <td>...</td>\n",
       "    </tr>\n",
       "    <tr>\n",
       "      <td>158</td>\n",
       "      <td>2020-06-26</td>\n",
       "      <td>0</td>\n",
       "      <td>1232315</td>\n",
       "      <td>1200885</td>\n",
       "      <td>12602</td>\n",
       "      <td>11172</td>\n",
       "      <td>282</td>\n",
       "    </tr>\n",
       "    <tr>\n",
       "      <td>159</td>\n",
       "      <td>2020-06-27</td>\n",
       "      <td>0</td>\n",
       "      <td>1243780</td>\n",
       "      <td>1211261</td>\n",
       "      <td>12653</td>\n",
       "      <td>11317</td>\n",
       "      <td>282</td>\n",
       "    </tr>\n",
       "    <tr>\n",
       "      <td>160</td>\n",
       "      <td>2020-06-28</td>\n",
       "      <td>0</td>\n",
       "      <td>1251695</td>\n",
       "      <td>1219975</td>\n",
       "      <td>12715</td>\n",
       "      <td>11364</td>\n",
       "      <td>282</td>\n",
       "    </tr>\n",
       "    <tr>\n",
       "      <td>161</td>\n",
       "      <td>2020-06-29</td>\n",
       "      <td>0</td>\n",
       "      <td>1259954</td>\n",
       "      <td>1228698</td>\n",
       "      <td>12757</td>\n",
       "      <td>11429</td>\n",
       "      <td>282</td>\n",
       "    </tr>\n",
       "    <tr>\n",
       "      <td>162</td>\n",
       "      <td>2020-06-30</td>\n",
       "      <td>0</td>\n",
       "      <td>1273766</td>\n",
       "      <td>1240157</td>\n",
       "      <td>12800</td>\n",
       "      <td>11537</td>\n",
       "      <td>282</td>\n",
       "    </tr>\n",
       "  </tbody>\n",
       "</table>\n",
       "<p>163 rows × 7 columns</p>\n",
       "</div>"
      ],
      "text/plain": [
       "           date  time     test  negative  confirmed  released  deceased\n",
       "0    2020-01-20    16        1         0          1         0         0\n",
       "1    2020-01-21    16        1         0          1         0         0\n",
       "2    2020-01-22    16        4         3          1         0         0\n",
       "3    2020-01-23    16       22        21          1         0         0\n",
       "4    2020-01-24    16       27        25          2         0         0\n",
       "..          ...   ...      ...       ...        ...       ...       ...\n",
       "158  2020-06-26     0  1232315   1200885      12602     11172       282\n",
       "159  2020-06-27     0  1243780   1211261      12653     11317       282\n",
       "160  2020-06-28     0  1251695   1219975      12715     11364       282\n",
       "161  2020-06-29     0  1259954   1228698      12757     11429       282\n",
       "162  2020-06-30     0  1273766   1240157      12800     11537       282\n",
       "\n",
       "[163 rows x 7 columns]"
      ]
     },
     "execution_count": 131,
     "metadata": {},
     "output_type": "execute_result"
    }
   ],
   "source": [
    "test_csv = pd.read_csv(eda_paths[6]) # read the data\n",
    "test_csv"
   ]
  },
  {
   "cell_type": "code",
   "execution_count": 132,
   "metadata": {},
   "outputs": [],
   "source": [
    "                                                #37"
   ]
  },
  {
   "cell_type": "code",
   "execution_count": 133,
   "metadata": {},
   "outputs": [
    {
     "name": "stdout",
     "output_type": "stream",
     "text": [
      "Answer to Q37 :  1273766\n"
     ]
    }
   ],
   "source": [
    "test_lot = test_csv['test'].max()\n",
    "print(\"Answer to Q37 : \", test_lot)"
   ]
  },
  {
   "cell_type": "code",
   "execution_count": 134,
   "metadata": {},
   "outputs": [],
   "source": [
    "                                                #38"
   ]
  },
  {
   "cell_type": "code",
   "execution_count": 135,
   "metadata": {},
   "outputs": [
    {
     "name": "stdout",
     "output_type": "stream",
     "text": [
      "Answer to Q38 :  97.36\n"
     ]
    }
   ],
   "source": [
    "test_negative = test_csv['negative'].max()\n",
    "test_negative_ratio = 100 * test_negative / test_lot\n",
    "print(\"Answer to Q38 : \", round(test_negative_ratio, 2))"
   ]
  },
  {
   "cell_type": "code",
   "execution_count": 136,
   "metadata": {},
   "outputs": [],
   "source": [
    "                                                #39"
   ]
  },
  {
   "cell_type": "code",
   "execution_count": 137,
   "metadata": {},
   "outputs": [
    {
     "name": "stdout",
     "output_type": "stream",
     "text": [
      "Answer to Q39 :  282\n"
     ]
    }
   ],
   "source": [
    "test_deceased = test_csv['deceased'].max()\n",
    "print(\"Answer to Q39 : \", test_deceased)"
   ]
  },
  {
   "cell_type": "code",
   "execution_count": 138,
   "metadata": {},
   "outputs": [],
   "source": [
    "                                                #40"
   ]
  },
  {
   "cell_type": "code",
   "execution_count": 139,
   "metadata": {},
   "outputs": [
    {
     "name": "stdout",
     "output_type": "stream",
     "text": [
      "Answer to Q40 :  11537\n"
     ]
    }
   ],
   "source": [
    "test_released = test_csv['released'].max()\n",
    "print(\"Answer to Q40 : \", test_released)"
   ]
  },
  {
   "cell_type": "markdown",
   "metadata": {
    "colab_type": "text",
    "id": "3TOlVGpw-H2a"
   },
   "source": [
    "### Task 9: Policy"
   ]
  },
  {
   "cell_type": "code",
   "execution_count": 140,
   "metadata": {
    "colab": {},
    "colab_type": "code",
    "id": "sfLaN-ir-H2a"
   },
   "outputs": [],
   "source": [
    "# load/read the data\n",
    "# create appropriate plots"
   ]
  },
  {
   "cell_type": "markdown",
   "metadata": {
    "colab_type": "text",
    "id": "EUqBK1Bs-H2c"
   },
   "source": [
    "### Conclusion\n",
    "\n"
   ]
  }
 ],
 "metadata": {
  "colab": {
   "name": "samplenotebook-eda.ipynb",
   "provenance": [],
   "toc_visible": true
  },
  "kernelspec": {
   "display_name": "Python 3",
   "language": "python",
   "name": "python3"
  },
  "language_info": {
   "codemirror_mode": {
    "name": "ipython",
    "version": 3
   },
   "file_extension": ".py",
   "mimetype": "text/x-python",
   "name": "python",
   "nbconvert_exporter": "python",
   "pygments_lexer": "ipython3",
   "version": "3.7.4"
  }
 },
 "nbformat": 4,
 "nbformat_minor": 1
}
